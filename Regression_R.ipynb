{
  "nbformat": 4,
  "nbformat_minor": 0,
  "metadata": {
    "colab": {
      "provenance": []
    },
    "kernelspec": {
      "name": "ir",
      "display_name": "R"
    },
    "language_info": {
      "name": "R"
    }
  },
  "cells": [
    {
      "cell_type": "markdown",
      "source": [
        "The objective of this project was to gain hands-on experience building regression models in R and to explore the statistical features of the language. Throughout the project, we created multiple regression models, checked for the normality of residuals, and assessed homoscedasticity. Additionally, we used an instrumental variable to build a regression model that accounted for endogeneity. This project allowed us to develop a deeper understanding of the various techniques and tools available in R for regression analysis, and to gain valuable practical experience in applying them."
      ],
      "metadata": {
        "id": "ZSJTrRpTnMVi"
      }
    },
    {
      "cell_type": "markdown",
      "source": [
        "# Problem 1"
      ],
      "metadata": {
        "id": "ldY-__CiGxbZ"
      }
    },
    {
      "cell_type": "markdown",
      "source": [
        "## A"
      ],
      "metadata": {
        "id": "ofeMmruPZBQo"
      }
    },
    {
      "cell_type": "markdown",
      "source": [
        "Estimating a model relating colGPA to hsGPA, ACT, skipped, and PC."
      ],
      "metadata": {
        "id": "SnMh0PDYl4KL"
      }
    },
    {
      "cell_type": "code",
      "source": [
        "install.packages(\"lmtest\")"
      ],
      "metadata": {
        "colab": {
          "base_uri": "https://localhost:8080/"
        },
        "id": "TltFLUPVTr9_",
        "outputId": "f2448226-d01f-49f1-8aa4-b04a6ba314a0"
      },
      "execution_count": null,
      "outputs": [
        {
          "output_type": "stream",
          "name": "stderr",
          "text": [
            "Installing package into ‘/usr/local/lib/R/site-library’\n",
            "(as ‘lib’ is unspecified)\n",
            "\n",
            "also installing the dependency ‘zoo’\n",
            "\n",
            "\n"
          ]
        }
      ]
    },
    {
      "cell_type": "code",
      "source": [
        "library(readxl)\n",
        "library(lmtest)"
      ],
      "metadata": {
        "colab": {
          "base_uri": "https://localhost:8080/"
        },
        "id": "uEahH-PPIlDb",
        "outputId": "6d576192-cfd7-4701-a10f-c4cb78aa5471"
      },
      "execution_count": null,
      "outputs": [
        {
          "output_type": "stream",
          "name": "stderr",
          "text": [
            "Loading required package: zoo\n",
            "\n",
            "\n",
            "Attaching package: ‘zoo’\n",
            "\n",
            "\n",
            "The following objects are masked from ‘package:base’:\n",
            "\n",
            "    as.Date, as.Date.numeric\n",
            "\n",
            "\n"
          ]
        }
      ]
    },
    {
      "cell_type": "code",
      "source": [
        "OLS <- read_excel(\"/content/ColGPA_HW2.xls\")"
      ],
      "metadata": {
        "id": "OlehO5C_G2jB"
      },
      "execution_count": null,
      "outputs": []
    },
    {
      "cell_type": "code",
      "source": [
        "print(head(OLS))"
      ],
      "metadata": {
        "colab": {
          "base_uri": "https://localhost:8080/"
        },
        "id": "9W61G4kMG2o5",
        "outputId": "b52e9c30-6242-42aa-acca-ca4a49254c58"
      },
      "execution_count": null,
      "outputs": [
        {
          "output_type": "stream",
          "name": "stdout",
          "text": [
            "\u001b[90m# A tibble: 6 × 5\u001b[39m\n",
            "  colGPA hsGPA   ACT    pc skipped\n",
            "   \u001b[3m\u001b[90m<dbl>\u001b[39m\u001b[23m \u001b[3m\u001b[90m<dbl>\u001b[39m\u001b[23m \u001b[3m\u001b[90m<dbl>\u001b[39m\u001b[23m \u001b[3m\u001b[90m<dbl>\u001b[39m\u001b[23m   \u001b[3m\u001b[90m<dbl>\u001b[39m\u001b[23m\n",
            "\u001b[90m1\u001b[39m    2.2   3      24     1       0\n",
            "\u001b[90m2\u001b[39m    2.3   3.6    25     0       1\n",
            "\u001b[90m3\u001b[39m    2.4   3      21     0       2\n",
            "\u001b[90m4\u001b[39m    2.4   3      19     0       2\n",
            "\u001b[90m5\u001b[39m    2.5   3.5    29     1       4\n",
            "\u001b[90m6\u001b[39m    2.5   3      23     0       5\n"
          ]
        }
      ]
    },
    {
      "cell_type": "code",
      "source": [
        "model_1 <- lm(data = OLS, formula = colGPA ~ hsGPA + ACT + skipped + pc)"
      ],
      "metadata": {
        "id": "UsiJtVrnQal1"
      },
      "execution_count": null,
      "outputs": []
    },
    {
      "cell_type": "code",
      "source": [
        "summary(model_1)"
      ],
      "metadata": {
        "colab": {
          "base_uri": "https://localhost:8080/",
          "height": 381
        },
        "id": "94pN4AMvRErd",
        "outputId": "43333569-4eb0-465d-f2a7-27b9e2e1d6a4"
      },
      "execution_count": null,
      "outputs": [
        {
          "output_type": "display_data",
          "data": {
            "text/plain": [
              "\n",
              "Call:\n",
              "lm(formula = colGPA ~ hsGPA + ACT + skipped + pc, data = OLS)\n",
              "\n",
              "Residuals:\n",
              "     Min       1Q   Median       3Q      Max \n",
              "-0.83963 -0.21622 -0.02502  0.26598  0.75055 \n",
              "\n",
              "Coefficients:\n",
              "            Estimate Std. Error t value Pr(>|t|)    \n",
              "(Intercept)  1.27084    0.34161   3.720 0.000297 ***\n",
              "hsGPA        0.43670    0.09778   4.466 1.73e-05 ***\n",
              "ACT          0.01395    0.01114   1.252 0.212918    \n",
              "skipped     -0.07440    0.02716  -2.739 0.007036 ** \n",
              "pc           0.12396    0.06026   2.057 0.041687 *  \n",
              "---\n",
              "Signif. codes:  0 ‘***’ 0.001 ‘**’ 0.01 ‘*’ 0.05 ‘.’ 0.1 ‘ ’ 1\n",
              "\n",
              "Residual standard error: 0.3319 on 128 degrees of freedom\n",
              "Multiple R-squared:  0.2725,\tAdjusted R-squared:  0.2498 \n",
              "F-statistic: 11.99 on 4 and 128 DF,  p-value: 2.644e-08\n"
            ]
          },
          "metadata": {}
        }
      ]
    },
    {
      "cell_type": "markdown",
      "source": [
        "Checking for normallity of the residuals."
      ],
      "metadata": {
        "id": "CcYoE5cpRiyW"
      }
    },
    {
      "cell_type": "code",
      "source": [
        "shapiro.test(model_1$residuals)"
      ],
      "metadata": {
        "colab": {
          "base_uri": "https://localhost:8080/",
          "height": 104
        },
        "id": "EozzITh_Rnhd",
        "outputId": "ec021883-d698-4f9f-c4fa-ba68f0e459cd"
      },
      "execution_count": null,
      "outputs": [
        {
          "output_type": "display_data",
          "data": {
            "text/plain": [
              "\n",
              "\tShapiro-Wilk normality test\n",
              "\n",
              "data:  model_1$residuals\n",
              "W = 0.99043, p-value = 0.4956\n"
            ]
          },
          "metadata": {}
        }
      ]
    },
    {
      "cell_type": "code",
      "source": [
        "hist(model_1$residuals)"
      ],
      "metadata": {
        "colab": {
          "base_uri": "https://localhost:8080/",
          "height": 437
        },
        "id": "6kJNqldYREuV",
        "outputId": "7b03e27c-0f76-4886-d4a7-6deff08b9eae"
      },
      "execution_count": null,
      "outputs": [
        {
          "output_type": "display_data",
          "data": {
            "text/plain": [
              "Plot with title “Histogram of model_1$residuals”"
            ],
            "image/png": "[encoded data removed]"
          },
          "metadata": {
            "image/png": {
              "width": 420,
              "height": 420
            }
          }
        }
      ]
    },
    {
      "cell_type": "code",
      "source": [
        "lmmodel <- lm(mpg ~ disp+hp+am, data=mtcars)"
      ],
      "metadata": {
        "id": "Sn0m9K29Wlnv"
      },
      "execution_count": null,
      "outputs": []
    },
    {
      "cell_type": "code",
      "source": [
        "bptest(lmmodel, ~ disp*hp*am + I(disp^2) + I(hp^2)+ I(am^2), data = mtcars)"
      ],
      "metadata": {
        "id": "D6fs4jfUWoS3"
      },
      "execution_count": null,
      "outputs": []
    },
    {
      "cell_type": "code",
      "source": [
        "bptest(model, ~ lwage + I(lwage^2), data = wage1)"
      ],
      "metadata": {
        "id": "PhXfycUyXlPp"
      },
      "execution_count": null,
      "outputs": []
    },
    {
      "cell_type": "code",
      "source": [
        "bptest(model_1, data = OLS,  ~ hsGPA * ACT * skipped * pc + I(hsGPA^2)+ I(ACT^2)+ I(skipped^2)+ I(pc^2))"
      ],
      "metadata": {
        "colab": {
          "base_uri": "https://localhost:8080/",
          "height": 104
        },
        "id": "h5GFidnGRExV",
        "outputId": "f085b11f-eb9d-43ad-b123-ae036e392be8"
      },
      "execution_count": null,
      "outputs": [
        {
          "output_type": "display_data",
          "data": {
            "text/plain": [
              "\n",
              "\tstudentized Breusch-Pagan test\n",
              "\n",
              "data:  model_1\n",
              "BP = 22.295, df = 18, p-value = 0.2191\n"
            ]
          },
          "metadata": {}
        }
      ]
    },
    {
      "cell_type": "markdown",
      "source": [
        "We cannot reject the null hypothesis of homoscedasticity."
      ],
      "metadata": {
        "id": "zBKPZ7aGYnFZ"
      }
    },
    {
      "cell_type": "markdown",
      "source": [
        "# Problem 2"
      ],
      "metadata": {
        "id": "rxXKce60aRVC"
      }
    },
    {
      "cell_type": "markdown",
      "source": [
        " Does mother's smoking have a negative impact on birth weight?"
      ],
      "metadata": {
        "id": "aHFUMs9XlX5b"
      }
    },
    {
      "cell_type": "markdown",
      "source": [
        "A"
      ],
      "metadata": {
        "id": "8hW1pNrwbF75"
      }
    },
    {
      "cell_type": "code",
      "source": [
        "Birth <- read.csv(\"/content/BirthWt.csv\")"
      ],
      "metadata": {
        "id": "RM7ZWdNXbFUa"
      },
      "execution_count": null,
      "outputs": []
    },
    {
      "cell_type": "code",
      "source": [
        "print(head(Birth))"
      ],
      "metadata": {
        "colab": {
          "base_uri": "https://localhost:8080/"
        },
        "id": "gPwNEnm2bW6x",
        "outputId": "4c05f36a-e487-4531-ca39-30713d7d6f6b"
      },
      "execution_count": null,
      "outputs": [
        {
          "output_type": "stream",
          "name": "stdout",
          "text": [
            "  X X1 X1_8 X1_7 X1_6 X1_5 X1_4 X1_3 X1_2 X1_1    LogBW Mother_CigPerDay Order\n",
            "1 1  1    1    1    1    1    1    1    1    1 4.691348                0     1\n",
            "2 2  2    2    2    2    2    2    2    2    2 4.897840                0     2\n",
            "3 3  3    3    3    3    3    3    3    3    3 4.941642                0     2\n",
            "4 4  4    4    4    4    4    4    4    4    4 4.795791                0     2\n",
            "5 5  5    5    5    5    5    5    5    5    5 4.859812                0     2\n",
            "6 6  6    6    6    6    6    6    6    6    6 4.890349                0     1\n",
            "  Male FatherEducation MotherEducation FamilyIncome\n",
            "1    1              12              12         13.5\n",
            "2    1              14              12         27.5\n",
            "3    0              16              14         65.0\n",
            "4    0              12              17         27.5\n",
            "5    0              16              18         37.5\n",
            "6    1              16              15         27.5\n"
          ]
        }
      ]
    },
    {
      "cell_type": "code",
      "source": [
        "model_2a <- lm(data = Birth, formula = LogBW ~ Mother_CigPerDay + Order + Male)"
      ],
      "metadata": {
        "id": "PaW9u3oWbo0K"
      },
      "execution_count": null,
      "outputs": []
    },
    {
      "cell_type": "code",
      "source": [
        "summary(model_2a)"
      ],
      "metadata": {
        "colab": {
          "base_uri": "https://localhost:8080/",
          "height": 364
        },
        "id": "QQAhl46NcmKr",
        "outputId": "e11e1f59-d211-4d1d-d4f7-b747f1cea782"
      },
      "execution_count": null,
      "outputs": [
        {
          "output_type": "display_data",
          "data": {
            "text/plain": [
              "\n",
              "Call:\n",
              "lm(formula = LogBW ~ Mother_CigPerDay + Order + Male, data = Birth)\n",
              "\n",
              "Residuals:\n",
              "     Min       1Q   Median       3Q      Max \n",
              "-1.20776 -0.08770  0.01602  0.11209  0.83901 \n",
              "\n",
              "Coefficients:\n",
              "                   Estimate Std. Error t value Pr(>|t|)    \n",
              "(Intercept)       4.7494529  0.0125918 377.186  < 2e-16 ***\n",
              "Mother_CigPerDay -0.0055344  0.0009409  -5.882 5.39e-09 ***\n",
              "Order             0.0136545  0.0061261   2.229   0.0260 *  \n",
              "Male              0.0250753  0.0106819   2.347   0.0191 *  \n",
              "---\n",
              "Signif. codes:  0 ‘***’ 0.001 ‘**’ 0.01 ‘*’ 0.05 ‘.’ 0.1 ‘ ’ 1\n",
              "\n",
              "Residual standard error: 0.1761 on 1085 degrees of freedom\n",
              "Multiple R-squared:  0.03912,\tAdjusted R-squared:  0.03646 \n",
              "F-statistic: 14.72 on 3 and 1085 DF,  p-value: 2.109e-09\n"
            ]
          },
          "metadata": {}
        }
      ]
    },
    {
      "cell_type": "markdown",
      "source": [
        "The analysis indicates that the variable CigPerDay is statistically significant and exhibits a negative correlation with the dependent variable. Specifically, as the value of CigPerDay increases, the birth weight decreases, revealing a clear negative impact of smoking on birth weight."
      ],
      "metadata": {
        "id": "3KrwVLxTjWD9"
      }
    },
    {
      "cell_type": "code",
      "source": [
        "shapiro.test(model_2a$residuals)"
      ],
      "metadata": {
        "colab": {
          "base_uri": "https://localhost:8080/",
          "height": 104
        },
        "id": "cOmYupVhc6kT",
        "outputId": "2a1fd849-07b3-46dd-fa14-9a34282f5417"
      },
      "execution_count": null,
      "outputs": [
        {
          "output_type": "display_data",
          "data": {
            "text/plain": [
              "\n",
              "\tShapiro-Wilk normality test\n",
              "\n",
              "data:  model_2a$residuals\n",
              "W = 0.91836, p-value < 2.2e-16\n"
            ]
          },
          "metadata": {}
        }
      ]
    },
    {
      "cell_type": "code",
      "source": [
        "hist(model_2a$residuals)"
      ],
      "metadata": {
        "colab": {
          "base_uri": "https://localhost:8080/",
          "height": 437
        },
        "id": "5_yGiOvPdBCi",
        "outputId": "1efe4207-dcb8-4883-acfb-9b6e7560d0d7"
      },
      "execution_count": null,
      "outputs": [
        {
          "output_type": "display_data",
          "data": {
            "text/plain": [
              "Plot with title “Histogram of model_2a$residuals”"
            ],
            "image/png": "[encoded data removed]"
          },
          "metadata": {
            "image/png": {
              "width": 420,
              "height": 420
            }
          }
        }
      ]
    },
    {
      "cell_type": "markdown",
      "source": [
        "Although the model has been developed, it is not ideal as we have evidence to reject the hypothesis that the residuals follow a normal distribution."
      ],
      "metadata": {
        "id": "JAXO5QAYdMvz"
      }
    },
    {
      "cell_type": "markdown",
      "source": [
        "## b"
      ],
      "metadata": {
        "id": "vFqcH3cYjzie"
      }
    },
    {
      "cell_type": "markdown",
      "source": [
        "Using MotherEducation as an instrumental variable."
      ],
      "metadata": {
        "id": "tQeg_pkQmqVV"
      }
    },
    {
      "cell_type": "code",
      "source": [
        "model_2b <- lm(data = Birth, formula = LogBW ~ Mother_CigPerDay + Order + Male |MotherEducation)"
      ],
      "metadata": {
        "id": "mKHQ_mLQkwKW"
      },
      "execution_count": null,
      "outputs": []
    },
    {
      "cell_type": "code",
      "source": [
        "summary(model_2b)"
      ],
      "metadata": {
        "colab": {
          "base_uri": "https://localhost:8080/",
          "height": 364
        },
        "id": "aLmYeKY1k78e",
        "outputId": "11a575f5-4b07-4895-b2a2-a238d2f3b32c"
      },
      "execution_count": null,
      "outputs": [
        {
          "output_type": "display_data",
          "data": {
            "text/plain": [
              "\n",
              "Call:\n",
              "lm(formula = LogBW ~ Mother_CigPerDay + Order + Male | MotherEducation, \n",
              "    data = Birth)\n",
              "\n",
              "Residuals:\n",
              "     Min       1Q   Median       3Q      Max \n",
              "-1.21758 -0.08158  0.01456  0.11742  0.82919 \n",
              "\n",
              "Coefficients: (1 not defined because of singularities)\n",
              "                                                      Estimate Std. Error\n",
              "(Intercept)                                           4.772931   0.005438\n",
              "Mother_CigPerDay + Order + Male | MotherEducationTRUE       NA         NA\n",
              "                                                      t value Pr(>|t|)    \n",
              "(Intercept)                                             877.8   <2e-16 ***\n",
              "Mother_CigPerDay + Order + Male | MotherEducationTRUE      NA       NA    \n",
              "---\n",
              "Signif. codes:  0 ‘***’ 0.001 ‘**’ 0.01 ‘*’ 0.05 ‘.’ 0.1 ‘ ’ 1\n",
              "\n",
              "Residual standard error: 0.1794 on 1088 degrees of freedom\n"
            ]
          },
          "metadata": {}
        }
      ]
    }
  ]
}