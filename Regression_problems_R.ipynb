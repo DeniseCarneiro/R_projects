{
  "nbformat": 4,
  "nbformat_minor": 0,
  "metadata": {
    "colab": {
      "provenance": []
    },
    "kernelspec": {
      "name": "ir",
      "display_name": "R"
    },
    "language_info": {
      "name": "R"
    }
  },
  "cells": [
    {
      "cell_type": "markdown",
      "source": [
        "The primary focus of this project was to examine statistical regression problems in R, with a particular emphasis on utilizing prediction, logarithms, the Chow test, and confidence intervals to validate our models. Through these techniques, we gained a deeper understanding of the importance of selecting appropriate models and assessing their validity, which is crucial for generating accurate and reliable predictions. Overall, this project provided valuable hands-on experience in regression analysis in R and deepened our understanding of the fundamental concepts underlying statistical modeling."
      ],
      "metadata": {
        "id": "QekTk2E8unND"
      }
    },
    {
      "cell_type": "markdown",
      "source": [
        "# Problem 1"
      ],
      "metadata": {
        "id": "8dFwjLOJYBb2"
      }
    },
    {
      "cell_type": "markdown",
      "source": [
        "## a. Test the following hypotheses:"
      ],
      "metadata": {
        "id": "14DfOq_kYOWm"
      }
    },
    {
      "cell_type": "markdown",
      "source": [
        "### I. The expected delay at a traffic signal is 1.8 minutes and the expected delay foreach car in front of him at his parking lot is 3.2 mins"
      ],
      "metadata": {
        "id": "zy7P78ldYGW-"
      }
    },
    {
      "cell_type": "code",
      "execution_count": null,
      "metadata": {
        "id": "fYiVJP6eX9sx"
      },
      "outputs": [],
      "source": [
        "travel <- read.csv(\"/content/OfficeTravel.csv\")\n"
      ]
    },
    {
      "cell_type": "code",
      "source": [
        "print(head(travel, n = 15))"
      ],
      "metadata": {
        "colab": {
          "base_uri": "https://localhost:8080/"
        },
        "id": "2a7QTjKZatSe",
        "outputId": "537afac8-de80-486b-a763-06e40b58c503"
      },
      "execution_count": null,
      "outputs": [
        {
          "output_type": "stream",
          "name": "stdout",
          "text": [
            "   time leave signals cars\n",
            "1    40    33       8    0\n",
            "2    26    11       8    1\n",
            "3    40    16       6    1\n",
            "4    48    37       3    1\n",
            "5    47    16       6    1\n",
            "6    54    21      13    1\n",
            "7    29    15       4    0\n",
            "8    52    29       9    0\n",
            "9    59    46       7    0\n",
            "10   47    26       7    0\n",
            "11   34    20       3    1\n",
            "12   35    32      11    0\n",
            "13   36    14       7    0\n",
            "14   48    20       9    0\n",
            "15   42    16       7    0\n"
          ]
        }
      ]
    },
    {
      "cell_type": "code",
      "source": [
        "model <- lm(formula = time ~ leave + signals + cars, data = travel)"
      ],
      "metadata": {
        "id": "V8VeW5bhceXO"
      },
      "execution_count": null,
      "outputs": []
    },
    {
      "cell_type": "code",
      "source": [
        "summary(model)"
      ],
      "metadata": {
        "colab": {
          "base_uri": "https://localhost:8080/",
          "height": 364
        },
        "id": "MG4KRNKxcwP2",
        "outputId": "55140e68-5c53-4eee-95ae-4fe76cbd226b"
      },
      "execution_count": null,
      "outputs": [
        {
          "output_type": "display_data",
          "data": {
            "text/plain": [
              "\n",
              "Call:\n",
              "lm(formula = time ~ leave + signals + cars, data = travel)\n",
              "\n",
              "Residuals:\n",
              "     Min       1Q   Median       3Q      Max \n",
              "-18.2789  -3.9749  -0.1479   4.6265  16.5152 \n",
              "\n",
              "Coefficients:\n",
              "            Estimate Std. Error t value Pr(>|t|)    \n",
              "(Intercept) 21.04286    1.74652  12.048  < 2e-16 ***\n",
              "leave        0.36841    0.03618  10.181  < 2e-16 ***\n",
              "signals      1.49946    0.19334   7.756 2.66e-13 ***\n",
              "cars         2.97648    0.65026   4.577 7.63e-06 ***\n",
              "---\n",
              "Signif. codes:  0 ‘***’ 0.001 ‘**’ 0.01 ‘*’ 0.05 ‘.’ 0.1 ‘ ’ 1\n",
              "\n",
              "Residual standard error: 6.365 on 235 degrees of freedom\n",
              "Multiple R-squared:  0.5285,\tAdjusted R-squared:  0.5224 \n",
              "F-statistic: 87.79 on 3 and 235 DF,  p-value: < 2.2e-16\n"
            ]
          },
          "metadata": {}
        }
      ]
    },
    {
      "cell_type": "markdown",
      "source": [
        "For this Sample:\n",
        "Signal = 1.5 and Cars = 2.98\n",
        "\n",
        "The hypothesis is that (for population):\n",
        "Signal = 1.8 and Cars = 3.2\n",
        "\n",
        "As we can see below, it is between the confidence interval for 95% and 99%. So we do not regect the null hypothesis."
      ],
      "metadata": {
        "id": "9V0q2Z-ZefIG"
      }
    },
    {
      "cell_type": "code",
      "source": [
        "confint(model, level = 0.95)"
      ],
      "metadata": {
        "colab": {
          "base_uri": "https://localhost:8080/",
          "height": 192
        },
        "id": "vN2m2rqNkVF4",
        "outputId": "76a3f2ea-1d79-40ec-f282-0fa1e3295ca4"
      },
      "execution_count": null,
      "outputs": [
        {
          "output_type": "display_data",
          "data": {
            "text/html": [
              "<table class=\"dataframe\">\n",
              "<caption>A matrix: 4 × 2 of type dbl</caption>\n",
              "<thead>\n",
              "\t<tr><th></th><th scope=col>2.5 %</th><th scope=col>97.5 %</th></tr>\n",
              "</thead>\n",
              "<tbody>\n",
              "\t<tr><th scope=row>(Intercept)</th><td>17.6020221</td><td>24.4836897</td></tr>\n",
              "\t<tr><th scope=row>leave</th><td> 0.2971201</td><td> 0.4396959</td></tr>\n",
              "\t<tr><th scope=row>signals</th><td> 1.1185658</td><td> 1.8803523</td></tr>\n",
              "\t<tr><th scope=row>cars</th><td> 1.6954077</td><td> 4.2575560</td></tr>\n",
              "</tbody>\n",
              "</table>\n"
            ],
            "text/markdown": "\nA matrix: 4 × 2 of type dbl\n\n| <!--/--> | 2.5 % | 97.5 % |\n|---|---|---|\n| (Intercept) | 17.6020221 | 24.4836897 |\n| leave |  0.2971201 |  0.4396959 |\n| signals |  1.1185658 |  1.8803523 |\n| cars |  1.6954077 |  4.2575560 |\n\n",
            "text/latex": "A matrix: 4 × 2 of type dbl\n\\begin{tabular}{r|ll}\n  & 2.5 \\% & 97.5 \\%\\\\\n\\hline\n\t(Intercept) & 17.6020221 & 24.4836897\\\\\n\tleave &  0.2971201 &  0.4396959\\\\\n\tsignals &  1.1185658 &  1.8803523\\\\\n\tcars &  1.6954077 &  4.2575560\\\\\n\\end{tabular}\n",
            "text/plain": [
              "            2.5 %      97.5 %    \n",
              "(Intercept) 17.6020221 24.4836897\n",
              "leave        0.2971201  0.4396959\n",
              "signals      1.1185658  1.8803523\n",
              "cars         1.6954077  4.2575560"
            ]
          },
          "metadata": {}
        }
      ]
    },
    {
      "cell_type": "code",
      "source": [
        "confint(model, level = 0.99)"
      ],
      "metadata": {
        "colab": {
          "base_uri": "https://localhost:8080/",
          "height": 192
        },
        "id": "I6Nt9-dMlGoP",
        "outputId": "dbfa881e-be08-4f06-9156-b7e2257d08c6"
      },
      "execution_count": null,
      "outputs": [
        {
          "output_type": "display_data",
          "data": {
            "text/html": [
              "<table class=\"dataframe\">\n",
              "<caption>A matrix: 4 × 2 of type dbl</caption>\n",
              "<thead>\n",
              "\t<tr><th></th><th scope=col>0.5 %</th><th scope=col>99.5 %</th></tr>\n",
              "</thead>\n",
              "<tbody>\n",
              "\t<tr><th scope=row>(Intercept)</th><td>16.5073014</td><td>25.5784104</td></tr>\n",
              "\t<tr><th scope=row>leave</th><td> 0.2744394</td><td> 0.4623766</td></tr>\n",
              "\t<tr><th scope=row>signals</th><td> 0.9973825</td><td> 2.0015356</td></tr>\n",
              "\t<tr><th scope=row>cars</th><td> 1.2878268</td><td> 4.6651369</td></tr>\n",
              "</tbody>\n",
              "</table>\n"
            ],
            "text/markdown": "\nA matrix: 4 × 2 of type dbl\n\n| <!--/--> | 0.5 % | 99.5 % |\n|---|---|---|\n| (Intercept) | 16.5073014 | 25.5784104 |\n| leave |  0.2744394 |  0.4623766 |\n| signals |  0.9973825 |  2.0015356 |\n| cars |  1.2878268 |  4.6651369 |\n\n",
            "text/latex": "A matrix: 4 × 2 of type dbl\n\\begin{tabular}{r|ll}\n  & 0.5 \\% & 99.5 \\%\\\\\n\\hline\n\t(Intercept) & 16.5073014 & 25.5784104\\\\\n\tleave &  0.2744394 &  0.4623766\\\\\n\tsignals &  0.9973825 &  2.0015356\\\\\n\tcars &  1.2878268 &  4.6651369\\\\\n\\end{tabular}\n",
            "text/plain": [
              "            0.5 %      99.5 %    \n",
              "(Intercept) 16.5073014 25.5784104\n",
              "leave        0.2744394  0.4623766\n",
              "signals      0.9973825  2.0015356\n",
              "cars         1.2878268  4.6651369"
            ]
          },
          "metadata": {}
        }
      ]
    },
    {
      "cell_type": "code",
      "source": [
        "cor(travel$leave, travel$cars)"
      ],
      "metadata": {
        "colab": {
          "base_uri": "https://localhost:8080/",
          "height": 34
        },
        "id": "0ehcaE1F891H",
        "outputId": "da09dbc4-9ac7-4d4c-f41d-f7c6e601dc3b"
      },
      "execution_count": null,
      "outputs": [
        {
          "output_type": "display_data",
          "data": {
            "text/html": [
              "0.479169322594834"
            ],
            "text/markdown": "0.479169322594834",
            "text/latex": "0.479169322594834",
            "text/plain": [
              "[1] 0.4791693"
            ]
          },
          "metadata": {}
        }
      ]
    },
    {
      "cell_type": "code",
      "source": [
        "cor(travel$leave, log(travel$cars))"
      ],
      "metadata": {
        "colab": {
          "base_uri": "https://localhost:8080/",
          "height": 34
        },
        "id": "jBIQaH7nEVPR",
        "outputId": "51fcc159-927e-44ae-dca4-a87a7d25558f"
      },
      "execution_count": null,
      "outputs": [
        {
          "output_type": "display_data",
          "data": {
            "text/html": [
              "NaN"
            ],
            "text/markdown": "NaN",
            "text/latex": "NaN",
            "text/plain": [
              "[1] NaN"
            ]
          },
          "metadata": {}
        }
      ]
    },
    {
      "cell_type": "code",
      "source": [
        "library(ggplot2)"
      ],
      "metadata": {
        "id": "jpdm89xRBHnV"
      },
      "execution_count": null,
      "outputs": []
    },
    {
      "cell_type": "code",
      "source": [
        "plot(travel$leave, travel$cars)"
      ],
      "metadata": {
        "colab": {
          "base_uri": "https://localhost:8080/",
          "height": 437
        },
        "id": "bLTnt6beFW8v",
        "outputId": "0e26670f-99b7-4e5b-8743-dd9de29176c8"
      },
      "execution_count": null,
      "outputs": [
        {
          "output_type": "display_data",
          "data": {
            "text/plain": [
              "plot without title"
            ],
            "image/png": "[encoded data removed]"
          },
          "metadata": {
            "image/png": {
              "width": 420,
              "height": 420
            }
          }
        }
      ]
    },
    {
      "cell_type": "code",
      "source": [
        "ggplot(travel, aes(leave, cars)) +geom_point() + geom_smooth()"
      ],
      "metadata": {
        "colab": {
          "base_uri": "https://localhost:8080/",
          "height": 454
        },
        "id": "-c0tIuOVA4Am",
        "outputId": "c2693654-b203-4f91-a83d-48a53cbef250"
      },
      "execution_count": null,
      "outputs": [
        {
          "output_type": "stream",
          "name": "stderr",
          "text": [
            "\u001b[1m\u001b[22m`geom_smooth()` using method = 'loess' and formula = 'y ~ x'\n"
          ]
        },
        {
          "output_type": "display_data",
          "data": {
            "text/plain": [
              "plot without title"
            ],
            "image/png": "[encoded data removed]"
          },
          "metadata": {
            "image/png": {
              "width": 420,
              "height": 420
            }
          }
        }
      ]
    },
    {
      "cell_type": "markdown",
      "source": [
        "# Problem 2"
      ],
      "metadata": {
        "id": "FDp2S7jGHgqe"
      }
    },
    {
      "cell_type": "markdown",
      "source": [
        "**(a)Compute summary statistics on the dataset and comment. In particular, construct a histogram of price.** "
      ],
      "metadata": {
        "id": "jNOUP-uHqZIL"
      }
    },
    {
      "cell_type": "code",
      "source": [
        "house <- read.csv(\"/content/houseprice.csv\")"
      ],
      "metadata": {
        "id": "4bhSVS1OHsge"
      },
      "execution_count": null,
      "outputs": []
    },
    {
      "cell_type": "code",
      "source": [
        "summary(house)"
      ],
      "metadata": {
        "colab": {
          "base_uri": "https://localhost:8080/",
          "height": 260
        },
        "id": "7RSybZ8GHydt",
        "outputId": "fe0df381-051b-4610-8732-c7c8f804392b"
      },
      "execution_count": null,
      "outputs": [
        {
          "output_type": "display_data",
          "data": {
            "text/plain": [
              "     price              sqft         bedrooms         baths      \n",
              " Min.   :  22000   Min.   : 662   Min.   :1.000   Min.   :1.000  \n",
              " 1st Qu.: 100000   1st Qu.:1611   1st Qu.:3.000   1st Qu.:2.000  \n",
              " Median : 132000   Median :2200   Median :3.000   Median :2.000  \n",
              " Mean   : 157937   Mean   :2343   Mean   :3.194   Mean   :1.982  \n",
              " 3rd Qu.: 175000   3rd Qu.:2824   3rd Qu.:4.000   3rd Qu.:2.000  \n",
              " Max.   :1580000   Max.   :7897   Max.   :8.000   Max.   :5.000  \n",
              "      age           owner           ranch         fireplace        mountain    \n",
              " Min.   : 1.0   Min.   :0.000   Min.   :0.000   Min.   :0.000   Min.   :0.000  \n",
              " 1st Qu.: 2.0   1st Qu.:0.000   1st Qu.:0.000   1st Qu.:0.000   1st Qu.:0.000  \n",
              " Median :18.0   Median :0.000   Median :1.000   Median :1.000   Median :0.000  \n",
              " Mean   :18.8   Mean   :0.489   Mean   :0.502   Mean   :0.571   Mean   :0.077  \n",
              " 3rd Qu.:25.0   3rd Qu.:1.000   3rd Qu.:1.000   3rd Qu.:1.000   3rd Qu.:0.000  \n",
              " Max.   :80.0   Max.   :1.000   Max.   :1.000   Max.   :1.000   Max.   :1.000  "
            ]
          },
          "metadata": {}
        }
      ]
    },
    {
      "cell_type": "code",
      "source": [
        "hist(house$price)"
      ],
      "metadata": {
        "colab": {
          "base_uri": "https://localhost:8080/",
          "height": 437
        },
        "id": "jrIdkcc1H81f",
        "outputId": "1de14005-bad7-48d8-ac55-a88325057adc"
      },
      "execution_count": null,
      "outputs": [
        {
          "output_type": "display_data",
          "data": {
            "text/plain": [
              "Plot with title “Histogram of house$price”"
            ],
            "image/png": "[encoded data removed]"
          },
          "metadata": {
            "image/png": {
              "width": 420,
              "height": 420
            }
          }
        }
      ]
    },
    {
      "cell_type": "code",
      "source": [
        "hist(log(house$price))"
      ],
      "metadata": {
        "colab": {
          "base_uri": "https://localhost:8080/",
          "height": 437
        },
        "id": "n5T0BP5uI86t",
        "outputId": "a0ca19c5-41c2-4c3c-d2cd-87531a0b70ab"
      },
      "execution_count": null,
      "outputs": [
        {
          "output_type": "display_data",
          "data": {
            "text/plain": [
              "Plot with title “Histogram of log(house$price)”"
            ],
            "image/png": "[encoded data removed]"
          },
          "metadata": {
            "image/png": {
              "width": 420,
              "height": 420
            }
          }
        }
      ]
    },
    {
      "cell_type": "markdown",
      "source": [
        "b"
      ],
      "metadata": {
        "id": "5zAr-DBSJyr2"
      }
    },
    {
      "cell_type": "markdown",
      "source": [
        "**Divide the variable sqft by 100 prior to estimation.**"
      ],
      "metadata": {
        "id": "deGje4h4KL7F"
      }
    },
    {
      "cell_type": "code",
      "source": [
        "house$sqft <- house$sqft/100"
      ],
      "metadata": {
        "id": "36ieo-TBJ0H9"
      },
      "execution_count": null,
      "outputs": []
    },
    {
      "cell_type": "markdown",
      "source": [
        "**Estimate a regression model explaining ln(price/1000) as a function of the remainingvariables.**"
      ],
      "metadata": {
        "id": "kDe4xy1BKRet"
      }
    },
    {
      "cell_type": "code",
      "source": [
        "hist(log(house$price/1000))"
      ],
      "metadata": {
        "colab": {
          "base_uri": "https://localhost:8080/",
          "height": 437
        },
        "id": "9NiGZRl4JftV",
        "outputId": "f92a223f-92ee-4333-bf71-84fabd4d239b"
      },
      "execution_count": null,
      "outputs": [
        {
          "output_type": "display_data",
          "data": {
            "text/plain": [
              "Plot with title “Histogram of log(house$price/1000)”"
            ],
            "image/png": "[encoded data removed]"
          },
          "metadata": {
            "image/png": {
              "width": 420,
              "height": 420
            }
          }
        }
      ]
    },
    {
      "cell_type": "code",
      "source": [
        "l_house = log(house$price/1000)\n"
      ],
      "metadata": {
        "id": "UJCItwXPKjIp"
      },
      "execution_count": null,
      "outputs": []
    },
    {
      "cell_type": "code",
      "source": [
        "hist(house$bedrooms)"
      ],
      "metadata": {
        "colab": {
          "base_uri": "https://localhost:8080/",
          "height": 437
        },
        "id": "WmoNr-7Wu_9R",
        "outputId": "52f09c86-9337-422f-e088-b653664fc625"
      },
      "execution_count": null,
      "outputs": [
        {
          "output_type": "display_data",
          "data": {
            "text/plain": [
              "Plot with title “Histogram of house$bedrooms”"
            ],
            "image/png": "[encoded data removed]"
          },
          "metadata": {
            "image/png": {
              "width": 420,
              "height": 420
            }
          }
        }
      ]
    },
    {
      "cell_type": "code",
      "source": [
        "model_2 <- lm( l_house ~ sqft + bedrooms + baths + age + owner + ranch + fireplace + mountain, data = house)"
      ],
      "metadata": {
        "id": "Zmeou3d6LZRZ"
      },
      "execution_count": null,
      "outputs": []
    },
    {
      "cell_type": "code",
      "source": [
        "summary(model_2)"
      ],
      "metadata": {
        "colab": {
          "base_uri": "https://localhost:8080/",
          "height": 468
        },
        "id": "nxHhaeMzMjmI",
        "outputId": "efecbba8-3c4b-4584-9aa2-0bb983d12bba"
      },
      "execution_count": null,
      "outputs": [
        {
          "output_type": "display_data",
          "data": {
            "text/plain": [
              "\n",
              "Call:\n",
              "lm(formula = l_house ~ sqft + bedrooms + baths + age + owner + \n",
              "    ranch + fireplace + mountain, data = house)\n",
              "\n",
              "Residuals:\n",
              "     Min       1Q   Median       3Q      Max \n",
              "-1.13710 -0.12511  0.00234  0.15326  0.92602 \n",
              "\n",
              "Coefficients:\n",
              "              Estimate Std. Error t value Pr(>|t|)    \n",
              "(Intercept)  3.9916745  0.0465712  85.711  < 2e-16 ***\n",
              "sqft         3.0444601  0.1442164  21.110  < 2e-16 ***\n",
              "bedrooms    -0.0348125  0.0170065  -2.047 0.040920 *  \n",
              "baths        0.1865623  0.0214078   8.715  < 2e-16 ***\n",
              "age         -0.0063169  0.0005383 -11.736  < 2e-16 ***\n",
              "owner        0.0654202  0.0187105   3.496 0.000492 ***\n",
              "ranch       -0.0550476  0.0178456  -3.085 0.002094 ** \n",
              "fireplace    0.0777968  0.0200351   3.883 0.000110 ***\n",
              "mountain     0.1125821  0.0339656   3.315 0.000951 ***\n",
              "---\n",
              "Signif. codes:  0 ‘***’ 0.001 ‘**’ 0.01 ‘*’ 0.05 ‘.’ 0.1 ‘ ’ 1\n",
              "\n",
              "Residual standard error: 0.2722 on 991 degrees of freedom\n",
              "Multiple R-squared:  0.7419,\tAdjusted R-squared:  0.7398 \n",
              "F-statistic: 356.1 on 8 and 991 DF,  p-value: < 2.2e-16\n"
            ]
          },
          "metadata": {}
        }
      ]
    },
    {
      "cell_type": "markdown",
      "source": [
        "There is features that are not significative. We will skipt them from our model."
      ],
      "metadata": {
        "id": "EsHVKon_q9Jn"
      }
    },
    {
      "cell_type": "code",
      "source": [
        "model_3 <- lm( l_house ~ sqft + bedrooms + baths + age +  ranch +  mountain, data = house)"
      ],
      "metadata": {
        "id": "FFRs5IziJ9iS"
      },
      "execution_count": null,
      "outputs": []
    },
    {
      "cell_type": "code",
      "source": [
        "summary(model_3)"
      ],
      "metadata": {
        "colab": {
          "base_uri": "https://localhost:8080/",
          "height": 433
        },
        "id": "0sz0Q-5jLDm6",
        "outputId": "abe4d164-49f3-4a71-a2ad-b15cd2cff5de"
      },
      "execution_count": null,
      "outputs": [
        {
          "output_type": "display_data",
          "data": {
            "text/plain": [
              "\n",
              "Call:\n",
              "lm(formula = l_house ~ sqft + bedrooms + baths + age + ranch + \n",
              "    mountain, data = house)\n",
              "\n",
              "Residuals:\n",
              "    Min      1Q  Median      3Q     Max \n",
              "-3296.7  -297.6   -39.3   269.0  8754.6 \n",
              "\n",
              "Coefficients:\n",
              "            Estimate Std. Error t value Pr(>|t|)    \n",
              "(Intercept) -245.269    129.019  -1.901 0.057587 .  \n",
              "sqft        8634.656    393.140  21.963  < 2e-16 ***\n",
              "bedrooms    -263.147     47.303  -5.563 3.41e-08 ***\n",
              "baths        386.136     59.174   6.525 1.08e-10 ***\n",
              "age           -4.282      1.476  -2.901 0.003800 ** \n",
              "ranch       -165.340     49.455  -3.343 0.000859 ***\n",
              "mountain     520.615     94.758   5.494 4.99e-08 ***\n",
              "---\n",
              "Signif. codes:  0 ‘***’ 0.001 ‘**’ 0.01 ‘*’ 0.05 ‘.’ 0.1 ‘ ’ 1\n",
              "\n",
              "Residual standard error: 759.5 on 993 degrees of freedom\n",
              "Multiple R-squared:  0.6431,\tAdjusted R-squared:  0.6409 \n",
              "F-statistic: 298.2 on 6 and 993 DF,  p-value: < 2.2e-16\n"
            ]
          },
          "metadata": {}
        }
      ]
    },
    {
      "cell_type": "markdown",
      "source": [
        "**(c)Create a variable that is the product of mountain and ranch. Add this variable to the modeland re-estimate. What is the effect of adding this variable?**"
      ],
      "metadata": {
        "id": "eoTiAswUMAOS"
      }
    },
    {
      "cell_type": "markdown",
      "source": [
        "This variavel mr means mountain and/or ranch, because it will be 1 if it is mountain or ranch or both. We will skipt the variables \"mountain\" and \"ranch\" because of the covariance between them."
      ],
      "metadata": {
        "id": "BZMugKs-MNGx"
      }
    },
    {
      "cell_type": "code",
      "source": [
        "mr <- house$mountain * house$ranch"
      ],
      "metadata": {
        "id": "uh2mqBbxMA_6"
      },
      "execution_count": null,
      "outputs": []
    },
    {
      "cell_type": "code",
      "source": [
        "model_4 <- lm( l_house ~ sqft + bedrooms + baths + age + owner +  fireplace + mr, data = house)"
      ],
      "metadata": {
        "id": "j1YU6CU4MeKB"
      },
      "execution_count": null,
      "outputs": []
    },
    {
      "cell_type": "code",
      "source": [
        "summary(model_4)"
      ],
      "metadata": {
        "colab": {
          "base_uri": "https://localhost:8080/",
          "height": 451
        },
        "id": "RnlUUrMLMtW6",
        "outputId": "acb2b96d-3eb5-4971-ea0c-2afcda395fd2"
      },
      "execution_count": null,
      "outputs": [
        {
          "output_type": "display_data",
          "data": {
            "text/plain": [
              "\n",
              "Call:\n",
              "lm(formula = l_house ~ sqft + bedrooms + baths + age + owner + \n",
              "    fireplace + mr, data = house)\n",
              "\n",
              "Residuals:\n",
              "     Min       1Q   Median       3Q      Max \n",
              "-1.15469 -0.12709 -0.00716  0.15011  1.08552 \n",
              "\n",
              "Coefficients:\n",
              "              Estimate Std. Error t value Pr(>|t|)    \n",
              "(Intercept)  3.9887530  0.0469674  84.926  < 2e-16 ***\n",
              "sqft         3.1529674  0.1447592  21.781  < 2e-16 ***\n",
              "bedrooms    -0.0524737  0.0167696  -3.129  0.00180 ** \n",
              "baths        0.1942130  0.0215564   9.010  < 2e-16 ***\n",
              "age         -0.0064468  0.0005398 -11.943  < 2e-16 ***\n",
              "owner        0.0613101  0.0188892   3.246  0.00121 ** \n",
              "fireplace    0.0868925  0.0201288   4.317 1.74e-05 ***\n",
              "mr          -0.0419124  0.0591538  -0.709  0.47878    \n",
              "---\n",
              "Signif. codes:  0 ‘***’ 0.001 ‘**’ 0.01 ‘*’ 0.05 ‘.’ 0.1 ‘ ’ 1\n",
              "\n",
              "Residual standard error: 0.2751 on 992 degrees of freedom\n",
              "Multiple R-squared:  0.7361,\tAdjusted R-squared:  0.7342 \n",
              "F-statistic: 395.2 on 7 and 992 DF,  p-value: < 2.2e-16\n"
            ]
          },
          "metadata": {}
        }
      ]
    },
    {
      "cell_type": "markdown",
      "source": [
        "The new variable is no longer significative."
      ],
      "metadata": {
        "id": "Da_KbgmoNBjK"
      }
    },
    {
      "cell_type": "markdown",
      "source": [
        "**(d)It is arguable that the ranch-style homes may have a different regression function from thediverse set of other styles possible. Carry out a Chowtest of the equivalence of the regressionmodels for ranch versus non-ranch styles. What do you conclude?**"
      ],
      "metadata": {
        "id": "HvcrOxH2Oj6K"
      }
    },
    {
      "cell_type": "code",
      "source": [
        "\n",
        "install.packages(\"strucchange\")\n",
        "library(strucchange)"
      ],
      "metadata": {
        "colab": {
          "base_uri": "https://localhost:8080/"
        },
        "id": "Y9PrRJDhRlH5",
        "outputId": "1734564e-c146-4521-bdbe-64b046c255c0"
      },
      "execution_count": null,
      "outputs": [
        {
          "output_type": "stream",
          "name": "stderr",
          "text": [
            "Installing package into ‘/usr/local/lib/R/site-library’\n",
            "(as ‘lib’ is unspecified)\n",
            "\n",
            "also installing the dependencies ‘zoo’, ‘sandwich’\n",
            "\n",
            "\n",
            "Loading required package: zoo\n",
            "\n",
            "\n",
            "Attaching package: ‘zoo’\n",
            "\n",
            "\n",
            "The following objects are masked from ‘package:base’:\n",
            "\n",
            "    as.Date, as.Date.numeric\n",
            "\n",
            "\n",
            "Loading required package: sandwich\n",
            "\n"
          ]
        }
      ]
    },
    {
      "cell_type": "code",
      "source": [
        "sctest(l_house ~ house$ranch, type = \"Chow\")"
      ],
      "metadata": {
        "colab": {
          "base_uri": "https://localhost:8080/",
          "height": 104
        },
        "id": "8fmf1RvsQPip",
        "outputId": "77622d7d-af77-4b0f-a598-ed87a0e57b7d"
      },
      "execution_count": null,
      "outputs": [
        {
          "output_type": "display_data",
          "data": {
            "text/plain": [
              "\n",
              "\tChow test\n",
              "\n",
              "data:  l_house ~ house$ranch\n",
              "F = 1.1145, p-value = 0.3285\n"
            ]
          },
          "metadata": {}
        }
      ]
    },
    {
      "cell_type": "markdown",
      "source": [
        "As the test shows a break, we conclude that ranch-style homes may have a different function."
      ],
      "metadata": {
        "id": "ADLhqZjjtT3T"
      }
    },
    {
      "cell_type": "markdown",
      "source": [
        "**(e)Using the equation estimated in part (d), predict the value of a ranch-style house with 2500square feet of area, that is 20 years old, that is owner-occupied at the time of sale, that has afireplace, 3 bedrooms, and 2 baths, and that is not on a mountain.**"
      ],
      "metadata": {
        "id": "y_Wwo3HbSDna"
      }
    },
    {
      "cell_type": "code",
      "source": [
        "ranch_houses <- subset(house, ranch == 1)"
      ],
      "metadata": {
        "id": "_cdKUkRgTZMq"
      },
      "execution_count": null,
      "outputs": []
    },
    {
      "cell_type": "code",
      "source": [
        "l_house_ranch"
      ],
      "metadata": {
        "colab": {
          "base_uri": "https://localhost:8080/",
          "height": 798
        },
        "id": "F1VlusAPOhCa",
        "outputId": "1aa31dc3-1b8b-495d-85fc-83d6fafeba3a"
      },
      "execution_count": null,
      "outputs": [
        {
          "output_type": "display_data",
          "data": {
            "text/html": [
              "<style>\n",
              ".list-inline {list-style: none; margin:0; padding: 0}\n",
              ".list-inline>li {display: inline-block}\n",
              ".list-inline>li:not(:last-child)::after {content: \"\\00b7\"; padding: 0 .5ex}\n",
              "</style>\n",
              "<ol class=list-inline><li>4.19720194766181</li><li>4.18965474202643</li><li>4.22683374526818</li><li>4.62497281328427</li><li>3.98898404656427</li><li>4.96284463025991</li><li>4.59410923862867</li><li>4.58853254483507</li><li>4.59357320014243</li><li>4.59410923862867</li><li>4.61821473470889</li><li>4.8283137373023</li><li>4.13516655674236</li><li>4.52178857704904</li><li>4.78749174278205</li><li>3.13549421592915</li><li>3.12033643677852</li><li>4.55387689160054</li><li>4.17284762371004</li><li>4.31748811353631</li><li>4.21950770517611</li><li>3.13549421592915</li><li>3.69140127165745</li><li>4.53259949315326</li><li>4.06902675423781</li><li>4.63957161270542</li><li>4.6304967439341</li><li>4.58394654953646</li><li>4.59511985013459</li><li>4.40671924726425</li><li>5.14458326660599</li><li>4.9119193211571</li><li>4.38203913459576</li><li>4.91265488573605</li><li>5.12098335126512</li><li>4.89783979995091</li><li>5.59842195899838</li><li>5.75257263882563</li><li>5.33271879326537</li><li>5.28573858434118</li><li>5.81413053182507</li><li>5.3890717298165</li><li>5.24649761781824</li><li>4.38077585277223</li><li>4.81543111147129</li><li>4.81218435537242</li><li>4.87137322676275</li><li>4.85203026391962</li><li>4.21950770517611</li><li>4.12713438504509</li><li>4.82028156560504</li><li>3.91202300542815</li><li>4.49869794147757</li><li>4.8283137373023</li><li>4.99043258677874</li><li>5.50533153593236</li><li>4.33073334028633</li><li>4.90527477843843</li><li>4.44265125649032</li><li>4.82751341713153</li><li>4.59410923862867</li><li>4.78749174278205</li><li>4.89783979995091</li><li>4.74922723898152</li><li>4.40549899085902</li><li>3.52636052461616</li><li>4.51633897228148</li><li>4.6931810633108</li><li>3.73766961828337</li><li>4.70048036579242</li><li>4.95582705760126</li><li>4.38077585277223</li><li>4.90453376321371</li><li>4.86753445045558</li><li>4.8283137373023</li><li>4.68213122712422</li><li>4.89034912822175</li><li>4.83628190695148</li><li>4.80320103648723</li><li>4.75359019110636</li><li>4.90527477843843</li><li>5.01063529409626</li><li>4.91559174540936</li><li>4.5798523780038</li><li>4.94875989037817</li><li>5.22035582507832</li><li>4.84418708645859</li><li>5.66988092298052</li><li>4.56121829845891</li><li>4.94092788167144</li><li>4.5798523780038</li><li>4.50976000118343</li><li>4.28358656186063</li><li>4.92362391710663</li><li>4.75359019110636</li><li>4.7999142627806</li><li>5.00996840510855</li><li>4.59511985013459</li><li>4.60517018598809</li><li>5.33753807970132</li><li>4.86753445045558</li><li>4.62986279857846</li><li>5.24702407216049</li><li>4.7824792009585</li><li>5.35894198836447</li><li>5.57215403217776</li><li>4.8283137373023</li><li>4.8283137373023</li><li>5.33030041240109</li><li>4.76643833358421</li><li>5.16478597392351</li><li>5.26009615372784</li><li>4.71760561531788</li><li>5.56068163101553</li><li>4.55387689160054</li><li>5.23644196282995</li><li>4.9337542497603</li><li>5.09375020080676</li><li>4.74493212836325</li><li>4.96214508493582</li><li>5.12693574979242</li><li>4.98360662170834</li><li>4.66343909411207</li><li>4.82350218030508</li><li>4.82028156560504</li><li>5.17897060891547</li><li>5.00996840510855</li><li>5.08450514266271</li><li>4.96214508493582</li><li>5.08697886068359</li><li>4.61412992735956</li><li>4.98634260152721</li><li>4.73356340075649</li><li>5.14166355650266</li><li>5.12396397940326</li><li>5.00394630594546</li><li>4.8283137373023</li><li>4.31748811353631</li><li>4.8283137373023</li><li>4.87443367291585</li><li>4.69592454925656</li><li>4.64342889810518</li><li>4.85046654194343</li><li>5.3890717298165</li><li>4.70093480797247</li><li>5.32787616878958</li><li>4.55387689160054</li><li>4.80402104473326</li><li>5.36597601502185</li><li>4.75272775034571</li><li>4.81137101657199</li><li>4.86676492367655</li><li>5.04687721607871</li><li>5.13521002867789</li><li>5.03630304084483</li><li>4.68120487226409</li><li>4.87519732320115</li><li>4.74057482299429</li><li>4.74406218485471</li><li>4.86753445045558</li><li>4.90897164031976</li><li>5.0619619212616</li><li>5.08140436498446</li><li>4.82751341713153</li><li>4.78749174278205</li><li>4.82169186099341</li><li>5.1113851971964</li><li>5.33394991917674</li><li>5.53299415367592</li><li>5.4245093917858</li><li>4.88280192258637</li><li>4.82751341713153</li><li>4.9119193211571</li><li>5.06259503302697</li><li>5.04116449913108</li><li>5.24121777450746</li><li>5.16478597392351</li><li>5.093136515608</li><li>4.75272775034571</li><li>4.69134788222914</li><li>4.70048036579242</li><li>4.60816569496789</li><li>4.84339937472034</li><li>4.52178857704904</li><li>4.58904080405821</li><li>4.18965474202643</li><li>4.5358201078533</li><li>4.48863636973214</li><li>4.5798523780038</li><li>4.70048036579242</li><li>4.72738781871234</li><li>4.60416968565451</li><li>4.59005654817804</li><li>4.65396035015752</li><li>4.71849887129509</li><li>4.75617305952462</li><li>4.77912349311153</li><li>4.96284463025991</li><li>4.75359019110636</li><li>4.0943445622221</li><li>⋯</li><li>4.63957161270542</li><li>4.27930153215107</li><li>4.58496747867057</li><li>4.44265125649032</li><li>4.45434729625351</li><li>5.34710753071747</li><li>4.45434729625351</li><li>4.62497281328427</li><li>3.80666248977032</li><li>4.48975933447676</li><li>4.0943445622221</li><li>4.27666611901606</li><li>4.48863636973214</li><li>3.94158180766969</li><li>4.33073334028633</li><li>4.33073334028633</li><li>4.29728540621879</li><li>4.72650247115562</li><li>4.76131886847802</li><li>4.79579054559674</li><li>4.80402104473326</li><li>4.7361984483945</li><li>4.77702044291475</li><li>4.59005654817804</li><li>4.23410650459726</li><li>3.80666248977032</li><li>4.87519732320115</li><li>5.21656486467578</li><li>4.92362391710663</li><li>5.57972982598622</li><li>4.7361984483945</li><li>5.03043792139244</li><li>4.969813299576</li><li>4.77491296057519</li><li>4.90527477843843</li><li>5.07454861983991</li><li>5.21221466749463</li><li>4.96214508493582</li><li>5.28320372873799</li><li>5.20675017302255</li><li>4.78665806203347</li><li>5.01063529409626</li><li>4.83628190695148</li><li>5.46806014113513</li><li>5.16478597392351</li><li>6.42486902390539</li><li>5.09375020080676</li><li>5.08759633523238</li><li>5.4380793089232</li><li>4.77068462446567</li><li>6.04001658769015</li><li>5.18178355029209</li><li>5.29831736654804</li><li>5.03695260241363</li><li>5.21873288720519</li><li>5.61677109766657</li><li>4.75789127300576</li><li>5.13579843705026</li><li>5.21493575760899</li><li>5.17614973257383</li><li>5.55295958492162</li><li>5.36597601502185</li><li>5.65424202909607</li><li>5.78382518232974</li><li>5.13579843705026</li><li>5.26527751246984</li><li>5.27556037942542</li><li>5.8171111599632</li><li>5.53733426701854</li><li>5.31811999384422</li><li>5.28269598564508</li><li>5.12396397940326</li><li>5.66988092298052</li><li>5.09681299033731</li><li>4.85203026391962</li><li>5.03695260241363</li><li>5.54126354515843</li><li>5.8432545199428</li><li>5.71042701737487</li><li>5.63478960316925</li><li>5.87211778947542</li><li>4.96911861389332</li><li>5.23324536980432</li><li>4.95582705760126</li><li>5.97189939161314</li><li>6.08677472691231</li><li>5.43764443176914</li><li>4.97327950755249</li><li>4.95582705760126</li><li>5.49264983600813</li><li>5.39816270151775</li><li>4.99043258677874</li><li>5.76393639747595</li><li>4.84339937472034</li><li>5.65599181081985</li><li>5.1244103083551</li><li>5.59433956327482</li><li>5.07423587550585</li><li>4.84024230816757</li><li>5.19295685089021</li><li>5.16478597392351</li><li>5.68697535633982</li><li>6.51471269087253</li><li>5.10533922956555</li><li>5.427150238391</li><li>4.77828280369674</li><li>4.92580335857956</li><li>5.06259503302697</li><li>5.51705120937355</li><li>4.92652878479926</li><li>5.427150238391</li><li>5.16478597392351</li><li>5.20675017302255</li><li>5.39317289756072</li><li>4.78446215822168</li><li>5.16478597392351</li><li>5.00327493968996</li><li>4.91265488573605</li><li>4.94092788167144</li><li>5.01063529409626</li><li>4.85903690994514</li><li>4.17284762371004</li><li>5.49675830522187</li><li>5.99146454710798</li><li>5.75257263882563</li><li>5.88610403145016</li><li>5.4380793089232</li><li>5.34710753071747</li><li>6.39692965521615</li><li>5.15329159449778</li><li>4.38202663467388</li><li>4.26267987704132</li><li>5.29330482472449</li><li>5.42053499927229</li><li>4.89034912822175</li><li>4.44265125649032</li><li>5.48063892334199</li><li>5.41610040220442</li><li>5.48022216984565</li><li>5.18710643721203</li><li>5.33392096891329</li><li>5.11799381241676</li><li>5.50533153593236</li><li>4.49980967033027</li><li>4.47163879336357</li><li>5.06827507354267</li><li>5.07324069796605</li><li>5.19418387556522</li><li>5.20345708552408</li><li>4.66814498514948</li><li>4.9192507322944</li><li>5.15905529921453</li><li>4.89335213348152</li><li>4.90230741721063</li><li>4.98360662170834</li><li>5.02650864325255</li><li>4.90007610352919</li><li>4.78749174278205</li><li>4.89933122453758</li><li>4.90230741721063</li><li>4.91044656684082</li><li>4.91412439371541</li><li>4.9192507322944</li><li>5.04084113615332</li><li>5.04084113615332</li><li>5.04738500812629</li><li>5.10169402504322</li><li>5.11078224270119</li><li>5.24597615486585</li><li>4.55282370561588</li><li>4.89034912822175</li><li>4.89634614769413</li><li>4.89634614769413</li><li>4.89634614769413</li><li>4.89634614769413</li><li>4.90453376321371</li><li>4.93662988078576</li><li>5.00461722177069</li><li>5.00996840510855</li><li>4.90453376321371</li><li>4.9337542497603</li><li>5.06827507354267</li><li>5.07829394257007</li><li>4.53259949315326</li><li>5.28269598564508</li><li>4.9330340480727</li><li>5.27248660651351</li><li>5.28269598564508</li><li>4.28358656186063</li><li>5.09742442416865</li><li>5.34281260643459</li><li>5.17445337932565</li><li>5.88610403145016</li><li>4.70048036579242</li><li>5.79909265446053</li><li>6.04713574447844</li><li>6.91473089271856</li><li>5.16991565174351</li><li>6.05208916892442</li><li>4.8283137373023</li></ol>\n"
            ],
            "text/markdown": "1. 4.19720194766181\n2. 4.18965474202643\n3. 4.22683374526818\n4. 4.62497281328427\n5. 3.98898404656427\n6. 4.96284463025991\n7. 4.59410923862867\n8. 4.58853254483507\n9. 4.59357320014243\n10. 4.59410923862867\n11. 4.61821473470889\n12. 4.8283137373023\n13. 4.13516655674236\n14. 4.52178857704904\n15. 4.78749174278205\n16. 3.13549421592915\n17. 3.12033643677852\n18. 4.55387689160054\n19. 4.17284762371004\n20. 4.31748811353631\n21. 4.21950770517611\n22. 3.13549421592915\n23. 3.69140127165745\n24. 4.53259949315326\n25. 4.06902675423781\n26. 4.63957161270542\n27. 4.6304967439341\n28. 4.58394654953646\n29. 4.59511985013459\n30. 4.40671924726425\n31. 5.14458326660599\n32. 4.9119193211571\n33. 4.38203913459576\n34. 4.91265488573605\n35. 5.12098335126512\n36. 4.89783979995091\n37. 5.59842195899838\n38. 5.75257263882563\n39. 5.33271879326537\n40. 5.28573858434118\n41. 5.81413053182507\n42. 5.3890717298165\n43. 5.24649761781824\n44. 4.38077585277223\n45. 4.81543111147129\n46. 4.81218435537242\n47. 4.87137322676275\n48. 4.85203026391962\n49. 4.21950770517611\n50. 4.12713438504509\n51. 4.82028156560504\n52. 3.91202300542815\n53. 4.49869794147757\n54. 4.8283137373023\n55. 4.99043258677874\n56. 5.50533153593236\n57. 4.33073334028633\n58. 4.90527477843843\n59. 4.44265125649032\n60. 4.82751341713153\n61. 4.59410923862867\n62. 4.78749174278205\n63. 4.89783979995091\n64. 4.74922723898152\n65. 4.40549899085902\n66. 3.52636052461616\n67. 4.51633897228148\n68. 4.6931810633108\n69. 3.73766961828337\n70. 4.70048036579242\n71. 4.95582705760126\n72. 4.38077585277223\n73. 4.90453376321371\n74. 4.86753445045558\n75. 4.8283137373023\n76. 4.68213122712422\n77. 4.89034912822175\n78. 4.83628190695148\n79. 4.80320103648723\n80. 4.75359019110636\n81. 4.90527477843843\n82. 5.01063529409626\n83. 4.91559174540936\n84. 4.5798523780038\n85. 4.94875989037817\n86. 5.22035582507832\n87. 4.84418708645859\n88. 5.66988092298052\n89. 4.56121829845891\n90. 4.94092788167144\n91. 4.5798523780038\n92. 4.50976000118343\n93. 4.28358656186063\n94. 4.92362391710663\n95. 4.75359019110636\n96. 4.7999142627806\n97. 5.00996840510855\n98. 4.59511985013459\n99. 4.60517018598809\n100. 5.33753807970132\n101. 4.86753445045558\n102. 4.62986279857846\n103. 5.24702407216049\n104. 4.7824792009585\n105. 5.35894198836447\n106. 5.57215403217776\n107. 4.8283137373023\n108. 4.8283137373023\n109. 5.33030041240109\n110. 4.76643833358421\n111. 5.16478597392351\n112. 5.26009615372784\n113. 4.71760561531788\n114. 5.56068163101553\n115. 4.55387689160054\n116. 5.23644196282995\n117. 4.9337542497603\n118. 5.09375020080676\n119. 4.74493212836325\n120. 4.96214508493582\n121. 5.12693574979242\n122. 4.98360662170834\n123. 4.66343909411207\n124. 4.82350218030508\n125. 4.82028156560504\n126. 5.17897060891547\n127. 5.00996840510855\n128. 5.08450514266271\n129. 4.96214508493582\n130. 5.08697886068359\n131. 4.61412992735956\n132. 4.98634260152721\n133. 4.73356340075649\n134. 5.14166355650266\n135. 5.12396397940326\n136. 5.00394630594546\n137. 4.8283137373023\n138. 4.31748811353631\n139. 4.8283137373023\n140. 4.87443367291585\n141. 4.69592454925656\n142. 4.64342889810518\n143. 4.85046654194343\n144. 5.3890717298165\n145. 4.70093480797247\n146. 5.32787616878958\n147. 4.55387689160054\n148. 4.80402104473326\n149. 5.36597601502185\n150. 4.75272775034571\n151. 4.81137101657199\n152. 4.86676492367655\n153. 5.04687721607871\n154. 5.13521002867789\n155. 5.03630304084483\n156. 4.68120487226409\n157. 4.87519732320115\n158. 4.74057482299429\n159. 4.74406218485471\n160. 4.86753445045558\n161. 4.90897164031976\n162. 5.0619619212616\n163. 5.08140436498446\n164. 4.82751341713153\n165. 4.78749174278205\n166. 4.82169186099341\n167. 5.1113851971964\n168. 5.33394991917674\n169. 5.53299415367592\n170. 5.4245093917858\n171. 4.88280192258637\n172. 4.82751341713153\n173. 4.9119193211571\n174. 5.06259503302697\n175. 5.04116449913108\n176. 5.24121777450746\n177. 5.16478597392351\n178. 5.093136515608\n179. 4.75272775034571\n180. 4.69134788222914\n181. 4.70048036579242\n182. 4.60816569496789\n183. 4.84339937472034\n184. 4.52178857704904\n185. 4.58904080405821\n186. 4.18965474202643\n187. 4.5358201078533\n188. 4.48863636973214\n189. 4.5798523780038\n190. 4.70048036579242\n191. 4.72738781871234\n192. 4.60416968565451\n193. 4.59005654817804\n194. 4.65396035015752\n195. 4.71849887129509\n196. 4.75617305952462\n197. 4.77912349311153\n198. 4.96284463025991\n199. 4.75359019110636\n200. 4.0943445622221\n201. ⋯\n202. 4.63957161270542\n203. 4.27930153215107\n204. 4.58496747867057\n205. 4.44265125649032\n206. 4.45434729625351\n207. 5.34710753071747\n208. 4.45434729625351\n209. 4.62497281328427\n210. 3.80666248977032\n211. 4.48975933447676\n212. 4.0943445622221\n213. 4.27666611901606\n214. 4.48863636973214\n215. 3.94158180766969\n216. 4.33073334028633\n217. 4.33073334028633\n218. 4.29728540621879\n219. 4.72650247115562\n220. 4.76131886847802\n221. 4.79579054559674\n222. 4.80402104473326\n223. 4.7361984483945\n224. 4.77702044291475\n225. 4.59005654817804\n226. 4.23410650459726\n227. 3.80666248977032\n228. 4.87519732320115\n229. 5.21656486467578\n230. 4.92362391710663\n231. 5.57972982598622\n232. 4.7361984483945\n233. 5.03043792139244\n234. 4.969813299576\n235. 4.77491296057519\n236. 4.90527477843843\n237. 5.07454861983991\n238. 5.21221466749463\n239. 4.96214508493582\n240. 5.28320372873799\n241. 5.20675017302255\n242. 4.78665806203347\n243. 5.01063529409626\n244. 4.83628190695148\n245. 5.46806014113513\n246. 5.16478597392351\n247. 6.42486902390539\n248. 5.09375020080676\n249. 5.08759633523238\n250. 5.4380793089232\n251. 4.77068462446567\n252. 6.04001658769015\n253. 5.18178355029209\n254. 5.29831736654804\n255. 5.03695260241363\n256. 5.21873288720519\n257. 5.61677109766657\n258. 4.75789127300576\n259. 5.13579843705026\n260. 5.21493575760899\n261. 5.17614973257383\n262. 5.55295958492162\n263. 5.36597601502185\n264. 5.65424202909607\n265. 5.78382518232974\n266. 5.13579843705026\n267. 5.26527751246984\n268. 5.27556037942542\n269. 5.8171111599632\n270. 5.53733426701854\n271. 5.31811999384422\n272. 5.28269598564508\n273. 5.12396397940326\n274. 5.66988092298052\n275. 5.09681299033731\n276. 4.85203026391962\n277. 5.03695260241363\n278. 5.54126354515843\n279. 5.8432545199428\n280. 5.71042701737487\n281. 5.63478960316925\n282. 5.87211778947542\n283. 4.96911861389332\n284. 5.23324536980432\n285. 4.95582705760126\n286. 5.97189939161314\n287. 6.08677472691231\n288. 5.43764443176914\n289. 4.97327950755249\n290. 4.95582705760126\n291. 5.49264983600813\n292. 5.39816270151775\n293. 4.99043258677874\n294. 5.76393639747595\n295. 4.84339937472034\n296. 5.65599181081985\n297. 5.1244103083551\n298. 5.59433956327482\n299. 5.07423587550585\n300. 4.84024230816757\n301. 5.19295685089021\n302. 5.16478597392351\n303. 5.68697535633982\n304. 6.51471269087253\n305. 5.10533922956555\n306. 5.427150238391\n307. 4.77828280369674\n308. 4.92580335857956\n309. 5.06259503302697\n310. 5.51705120937355\n311. 4.92652878479926\n312. 5.427150238391\n313. 5.16478597392351\n314. 5.20675017302255\n315. 5.39317289756072\n316. 4.78446215822168\n317. 5.16478597392351\n318. 5.00327493968996\n319. 4.91265488573605\n320. 4.94092788167144\n321. 5.01063529409626\n322. 4.85903690994514\n323. 4.17284762371004\n324. 5.49675830522187\n325. 5.99146454710798\n326. 5.75257263882563\n327. 5.88610403145016\n328. 5.4380793089232\n329. 5.34710753071747\n330. 6.39692965521615\n331. 5.15329159449778\n332. 4.38202663467388\n333. 4.26267987704132\n334. 5.29330482472449\n335. 5.42053499927229\n336. 4.89034912822175\n337. 4.44265125649032\n338. 5.48063892334199\n339. 5.41610040220442\n340. 5.48022216984565\n341. 5.18710643721203\n342. 5.33392096891329\n343. 5.11799381241676\n344. 5.50533153593236\n345. 4.49980967033027\n346. 4.47163879336357\n347. 5.06827507354267\n348. 5.07324069796605\n349. 5.19418387556522\n350. 5.20345708552408\n351. 4.66814498514948\n352. 4.9192507322944\n353. 5.15905529921453\n354. 4.89335213348152\n355. 4.90230741721063\n356. 4.98360662170834\n357. 5.02650864325255\n358. 4.90007610352919\n359. 4.78749174278205\n360. 4.89933122453758\n361. 4.90230741721063\n362. 4.91044656684082\n363. 4.91412439371541\n364. 4.9192507322944\n365. 5.04084113615332\n366. 5.04084113615332\n367. 5.04738500812629\n368. 5.10169402504322\n369. 5.11078224270119\n370. 5.24597615486585\n371. 4.55282370561588\n372. 4.89034912822175\n373. 4.89634614769413\n374. 4.89634614769413\n375. 4.89634614769413\n376. 4.89634614769413\n377. 4.90453376321371\n378. 4.93662988078576\n379. 5.00461722177069\n380. 5.00996840510855\n381. 4.90453376321371\n382. 4.9337542497603\n383. 5.06827507354267\n384. 5.07829394257007\n385. 4.53259949315326\n386. 5.28269598564508\n387. 4.9330340480727\n388. 5.27248660651351\n389. 5.28269598564508\n390. 4.28358656186063\n391. 5.09742442416865\n392. 5.34281260643459\n393. 5.17445337932565\n394. 5.88610403145016\n395. 4.70048036579242\n396. 5.79909265446053\n397. 6.04713574447844\n398. 6.91473089271856\n399. 5.16991565174351\n400. 6.05208916892442\n401. 4.8283137373023\n\n\n",
            "text/latex": "\\begin{enumerate*}\n\\item 4.19720194766181\n\\item 4.18965474202643\n\\item 4.22683374526818\n\\item 4.62497281328427\n\\item 3.98898404656427\n\\item 4.96284463025991\n\\item 4.59410923862867\n\\item 4.58853254483507\n\\item 4.59357320014243\n\\item 4.59410923862867\n\\item 4.61821473470889\n\\item 4.8283137373023\n\\item 4.13516655674236\n\\item 4.52178857704904\n\\item 4.78749174278205\n\\item 3.13549421592915\n\\item 3.12033643677852\n\\item 4.55387689160054\n\\item 4.17284762371004\n\\item 4.31748811353631\n\\item 4.21950770517611\n\\item 3.13549421592915\n\\item 3.69140127165745\n\\item 4.53259949315326\n\\item 4.06902675423781\n\\item 4.63957161270542\n\\item 4.6304967439341\n\\item 4.58394654953646\n\\item 4.59511985013459\n\\item 4.40671924726425\n\\item 5.14458326660599\n\\item 4.9119193211571\n\\item 4.38203913459576\n\\item 4.91265488573605\n\\item 5.12098335126512\n\\item 4.89783979995091\n\\item 5.59842195899838\n\\item 5.75257263882563\n\\item 5.33271879326537\n\\item 5.28573858434118\n\\item 5.81413053182507\n\\item 5.3890717298165\n\\item 5.24649761781824\n\\item 4.38077585277223\n\\item 4.81543111147129\n\\item 4.81218435537242\n\\item 4.87137322676275\n\\item 4.85203026391962\n\\item 4.21950770517611\n\\item 4.12713438504509\n\\item 4.82028156560504\n\\item 3.91202300542815\n\\item 4.49869794147757\n\\item 4.8283137373023\n\\item 4.99043258677874\n\\item 5.50533153593236\n\\item 4.33073334028633\n\\item 4.90527477843843\n\\item 4.44265125649032\n\\item 4.82751341713153\n\\item 4.59410923862867\n\\item 4.78749174278205\n\\item 4.89783979995091\n\\item 4.74922723898152\n\\item 4.40549899085902\n\\item 3.52636052461616\n\\item 4.51633897228148\n\\item 4.6931810633108\n\\item 3.73766961828337\n\\item 4.70048036579242\n\\item 4.95582705760126\n\\item 4.38077585277223\n\\item 4.90453376321371\n\\item 4.86753445045558\n\\item 4.8283137373023\n\\item 4.68213122712422\n\\item 4.89034912822175\n\\item 4.83628190695148\n\\item 4.80320103648723\n\\item 4.75359019110636\n\\item 4.90527477843843\n\\item 5.01063529409626\n\\item 4.91559174540936\n\\item 4.5798523780038\n\\item 4.94875989037817\n\\item 5.22035582507832\n\\item 4.84418708645859\n\\item 5.66988092298052\n\\item 4.56121829845891\n\\item 4.94092788167144\n\\item 4.5798523780038\n\\item 4.50976000118343\n\\item 4.28358656186063\n\\item 4.92362391710663\n\\item 4.75359019110636\n\\item 4.7999142627806\n\\item 5.00996840510855\n\\item 4.59511985013459\n\\item 4.60517018598809\n\\item 5.33753807970132\n\\item 4.86753445045558\n\\item 4.62986279857846\n\\item 5.24702407216049\n\\item 4.7824792009585\n\\item 5.35894198836447\n\\item 5.57215403217776\n\\item 4.8283137373023\n\\item 4.8283137373023\n\\item 5.33030041240109\n\\item 4.76643833358421\n\\item 5.16478597392351\n\\item 5.26009615372784\n\\item 4.71760561531788\n\\item 5.56068163101553\n\\item 4.55387689160054\n\\item 5.23644196282995\n\\item 4.9337542497603\n\\item 5.09375020080676\n\\item 4.74493212836325\n\\item 4.96214508493582\n\\item 5.12693574979242\n\\item 4.98360662170834\n\\item 4.66343909411207\n\\item 4.82350218030508\n\\item 4.82028156560504\n\\item 5.17897060891547\n\\item 5.00996840510855\n\\item 5.08450514266271\n\\item 4.96214508493582\n\\item 5.08697886068359\n\\item 4.61412992735956\n\\item 4.98634260152721\n\\item 4.73356340075649\n\\item 5.14166355650266\n\\item 5.12396397940326\n\\item 5.00394630594546\n\\item 4.8283137373023\n\\item 4.31748811353631\n\\item 4.8283137373023\n\\item 4.87443367291585\n\\item 4.69592454925656\n\\item 4.64342889810518\n\\item 4.85046654194343\n\\item 5.3890717298165\n\\item 4.70093480797247\n\\item 5.32787616878958\n\\item 4.55387689160054\n\\item 4.80402104473326\n\\item 5.36597601502185\n\\item 4.75272775034571\n\\item 4.81137101657199\n\\item 4.86676492367655\n\\item 5.04687721607871\n\\item 5.13521002867789\n\\item 5.03630304084483\n\\item 4.68120487226409\n\\item 4.87519732320115\n\\item 4.74057482299429\n\\item 4.74406218485471\n\\item 4.86753445045558\n\\item 4.90897164031976\n\\item 5.0619619212616\n\\item 5.08140436498446\n\\item 4.82751341713153\n\\item 4.78749174278205\n\\item 4.82169186099341\n\\item 5.1113851971964\n\\item 5.33394991917674\n\\item 5.53299415367592\n\\item 5.4245093917858\n\\item 4.88280192258637\n\\item 4.82751341713153\n\\item 4.9119193211571\n\\item 5.06259503302697\n\\item 5.04116449913108\n\\item 5.24121777450746\n\\item 5.16478597392351\n\\item 5.093136515608\n\\item 4.75272775034571\n\\item 4.69134788222914\n\\item 4.70048036579242\n\\item 4.60816569496789\n\\item 4.84339937472034\n\\item 4.52178857704904\n\\item 4.58904080405821\n\\item 4.18965474202643\n\\item 4.5358201078533\n\\item 4.48863636973214\n\\item 4.5798523780038\n\\item 4.70048036579242\n\\item 4.72738781871234\n\\item 4.60416968565451\n\\item 4.59005654817804\n\\item 4.65396035015752\n\\item 4.71849887129509\n\\item 4.75617305952462\n\\item 4.77912349311153\n\\item 4.96284463025991\n\\item 4.75359019110636\n\\item 4.0943445622221\n\\item ⋯\n\\item 4.63957161270542\n\\item 4.27930153215107\n\\item 4.58496747867057\n\\item 4.44265125649032\n\\item 4.45434729625351\n\\item 5.34710753071747\n\\item 4.45434729625351\n\\item 4.62497281328427\n\\item 3.80666248977032\n\\item 4.48975933447676\n\\item 4.0943445622221\n\\item 4.27666611901606\n\\item 4.48863636973214\n\\item 3.94158180766969\n\\item 4.33073334028633\n\\item 4.33073334028633\n\\item 4.29728540621879\n\\item 4.72650247115562\n\\item 4.76131886847802\n\\item 4.79579054559674\n\\item 4.80402104473326\n\\item 4.7361984483945\n\\item 4.77702044291475\n\\item 4.59005654817804\n\\item 4.23410650459726\n\\item 3.80666248977032\n\\item 4.87519732320115\n\\item 5.21656486467578\n\\item 4.92362391710663\n\\item 5.57972982598622\n\\item 4.7361984483945\n\\item 5.03043792139244\n\\item 4.969813299576\n\\item 4.77491296057519\n\\item 4.90527477843843\n\\item 5.07454861983991\n\\item 5.21221466749463\n\\item 4.96214508493582\n\\item 5.28320372873799\n\\item 5.20675017302255\n\\item 4.78665806203347\n\\item 5.01063529409626\n\\item 4.83628190695148\n\\item 5.46806014113513\n\\item 5.16478597392351\n\\item 6.42486902390539\n\\item 5.09375020080676\n\\item 5.08759633523238\n\\item 5.4380793089232\n\\item 4.77068462446567\n\\item 6.04001658769015\n\\item 5.18178355029209\n\\item 5.29831736654804\n\\item 5.03695260241363\n\\item 5.21873288720519\n\\item 5.61677109766657\n\\item 4.75789127300576\n\\item 5.13579843705026\n\\item 5.21493575760899\n\\item 5.17614973257383\n\\item 5.55295958492162\n\\item 5.36597601502185\n\\item 5.65424202909607\n\\item 5.78382518232974\n\\item 5.13579843705026\n\\item 5.26527751246984\n\\item 5.27556037942542\n\\item 5.8171111599632\n\\item 5.53733426701854\n\\item 5.31811999384422\n\\item 5.28269598564508\n\\item 5.12396397940326\n\\item 5.66988092298052\n\\item 5.09681299033731\n\\item 4.85203026391962\n\\item 5.03695260241363\n\\item 5.54126354515843\n\\item 5.8432545199428\n\\item 5.71042701737487\n\\item 5.63478960316925\n\\item 5.87211778947542\n\\item 4.96911861389332\n\\item 5.23324536980432\n\\item 4.95582705760126\n\\item 5.97189939161314\n\\item 6.08677472691231\n\\item 5.43764443176914\n\\item 4.97327950755249\n\\item 4.95582705760126\n\\item 5.49264983600813\n\\item 5.39816270151775\n\\item 4.99043258677874\n\\item 5.76393639747595\n\\item 4.84339937472034\n\\item 5.65599181081985\n\\item 5.1244103083551\n\\item 5.59433956327482\n\\item 5.07423587550585\n\\item 4.84024230816757\n\\item 5.19295685089021\n\\item 5.16478597392351\n\\item 5.68697535633982\n\\item 6.51471269087253\n\\item 5.10533922956555\n\\item 5.427150238391\n\\item 4.77828280369674\n\\item 4.92580335857956\n\\item 5.06259503302697\n\\item 5.51705120937355\n\\item 4.92652878479926\n\\item 5.427150238391\n\\item 5.16478597392351\n\\item 5.20675017302255\n\\item 5.39317289756072\n\\item 4.78446215822168\n\\item 5.16478597392351\n\\item 5.00327493968996\n\\item 4.91265488573605\n\\item 4.94092788167144\n\\item 5.01063529409626\n\\item 4.85903690994514\n\\item 4.17284762371004\n\\item 5.49675830522187\n\\item 5.99146454710798\n\\item 5.75257263882563\n\\item 5.88610403145016\n\\item 5.4380793089232\n\\item 5.34710753071747\n\\item 6.39692965521615\n\\item 5.15329159449778\n\\item 4.38202663467388\n\\item 4.26267987704132\n\\item 5.29330482472449\n\\item 5.42053499927229\n\\item 4.89034912822175\n\\item 4.44265125649032\n\\item 5.48063892334199\n\\item 5.41610040220442\n\\item 5.48022216984565\n\\item 5.18710643721203\n\\item 5.33392096891329\n\\item 5.11799381241676\n\\item 5.50533153593236\n\\item 4.49980967033027\n\\item 4.47163879336357\n\\item 5.06827507354267\n\\item 5.07324069796605\n\\item 5.19418387556522\n\\item 5.20345708552408\n\\item 4.66814498514948\n\\item 4.9192507322944\n\\item 5.15905529921453\n\\item 4.89335213348152\n\\item 4.90230741721063\n\\item 4.98360662170834\n\\item 5.02650864325255\n\\item 4.90007610352919\n\\item 4.78749174278205\n\\item 4.89933122453758\n\\item 4.90230741721063\n\\item 4.91044656684082\n\\item 4.91412439371541\n\\item 4.9192507322944\n\\item 5.04084113615332\n\\item 5.04084113615332\n\\item 5.04738500812629\n\\item 5.10169402504322\n\\item 5.11078224270119\n\\item 5.24597615486585\n\\item 4.55282370561588\n\\item 4.89034912822175\n\\item 4.89634614769413\n\\item 4.89634614769413\n\\item 4.89634614769413\n\\item 4.89634614769413\n\\item 4.90453376321371\n\\item 4.93662988078576\n\\item 5.00461722177069\n\\item 5.00996840510855\n\\item 4.90453376321371\n\\item 4.9337542497603\n\\item 5.06827507354267\n\\item 5.07829394257007\n\\item 4.53259949315326\n\\item 5.28269598564508\n\\item 4.9330340480727\n\\item 5.27248660651351\n\\item 5.28269598564508\n\\item 4.28358656186063\n\\item 5.09742442416865\n\\item 5.34281260643459\n\\item 5.17445337932565\n\\item 5.88610403145016\n\\item 4.70048036579242\n\\item 5.79909265446053\n\\item 6.04713574447844\n\\item 6.91473089271856\n\\item 5.16991565174351\n\\item 6.05208916892442\n\\item 4.8283137373023\n\\end{enumerate*}\n",
            "text/plain": [
              "  [1] 4.197202 4.189655 4.226834 4.624973 3.988984 4.962845 4.594109 4.588533\n",
              "  [9] 4.593573 4.594109 4.618215 4.828314 4.135167 4.521789 4.787492 3.135494\n",
              " [17] 3.120336 4.553877 4.172848 4.317488 4.219508 3.135494 3.691401 4.532599\n",
              " [25] 4.069027 4.639572 4.630497 4.583947 4.595120 4.406719 5.144583 4.911919\n",
              " [33] 4.382039 4.912655 5.120983 4.897840 5.598422 5.752573 5.332719 5.285739\n",
              " [41] 5.814131 5.389072 5.246498 4.380776 4.815431 4.812184 4.871373 4.852030\n",
              " [49] 4.219508 4.127134 4.820282 3.912023 4.498698 4.828314 4.990433 5.505332\n",
              " [57] 4.330733 4.905275 4.442651 4.827513 4.594109 4.787492 4.897840 4.749227\n",
              " [65] 4.405499 3.526361 4.516339 4.693181 3.737670 4.700480 4.955827 4.380776\n",
              " [73] 4.904534 4.867534 4.828314 4.682131 4.890349 4.836282 4.803201 4.753590\n",
              " [81] 4.905275 5.010635 4.915592 4.579852 4.948760 5.220356 4.844187 5.669881\n",
              " [89] 4.561218 4.940928 4.579852 4.509760 4.283587 4.923624 4.753590 4.799914\n",
              " [97] 5.009968 4.595120 4.605170 5.337538 4.867534 4.629863 5.247024 4.782479\n",
              "[105] 5.358942 5.572154 4.828314 4.828314 5.330300 4.766438 5.164786 5.260096\n",
              "[113] 4.717606 5.560682 4.553877 5.236442 4.933754 5.093750 4.744932 4.962145\n",
              "[121] 5.126936 4.983607 4.663439 4.823502 4.820282 5.178971 5.009968 5.084505\n",
              "[129] 4.962145 5.086979 4.614130 4.986343 4.733563 5.141664 5.123964 5.003946\n",
              "[137] 4.828314 4.317488 4.828314 4.874434 4.695925 4.643429 4.850467 5.389072\n",
              "[145] 4.700935 5.327876 4.553877 4.804021 5.365976 4.752728 4.811371 4.866765\n",
              "[153] 5.046877 5.135210 5.036303 4.681205 4.875197 4.740575 4.744062 4.867534\n",
              "[161] 4.908972 5.061962 5.081404 4.827513 4.787492 4.821692 5.111385 5.333950\n",
              "[169] 5.532994 5.424509 4.882802 4.827513 4.911919 5.062595 5.041164 5.241218\n",
              "[177] 5.164786 5.093137 4.752728 4.691348 4.700480 4.608166 4.843399 4.521789\n",
              "[185] 4.589041 4.189655 4.535820 4.488636 4.579852 4.700480 4.727388 4.604170\n",
              "[193] 4.590057 4.653960 4.718499 4.756173 4.779123 4.962845 4.753590 4.094345\n",
              "[201] 4.051785 4.189655 4.247066 4.417635 3.826465 4.016383 3.496508 3.968403\n",
              "[209] 3.433987 4.553877 4.941642 4.791309 4.252772 4.962145 3.555348 5.105945\n",
              "[217] 4.356709 4.852030 4.094345 4.973280 5.135210 4.844187 4.962845 5.030438\n",
              "[225] 5.135798 5.147494 4.726502 5.175585 4.867534 4.158883 4.143135 3.583519\n",
              "[233] 4.135167 4.143135 4.983607 4.553877 4.542230 3.091042 4.736198 4.962845\n",
              "[241] 4.727388 5.043425 4.905275 4.852030 4.859037 4.634729 5.123964 4.693868\n",
              "[249] 4.521789 4.762174 4.988492 5.016617 5.041164 5.059425 5.107943 4.131014\n",
              "[257] 4.859812 5.661223 4.436752 4.770685 4.882044 4.791650 4.923624 4.380776\n",
              "[265] 4.736198 4.770685 4.516339 4.317488 4.382027 4.635699 4.730921 4.809742\n",
              "[273] 4.841033 4.841033 4.632785 4.716712 4.717606 4.731803 4.740575 4.798267\n",
              "[281] 4.813809 4.818667 4.856707 4.865995 4.865995 4.866765 4.881286 4.887337\n",
              "[289] 4.893352 5.061962 4.744932 4.212128 4.605170 4.694096 4.853592 4.804840\n",
              "[297] 4.707727 4.717606 4.728272 4.862908 4.644391 4.382027 4.639572 4.279302\n",
              "[305] 4.584967 4.442651 4.454347 5.347108 4.454347 4.624973 3.806662 4.489759\n",
              "[313] 4.094345 4.276666 4.488636 3.941582 4.330733 4.330733 4.297285 4.726502\n",
              "[321] 4.761319 4.795791 4.804021 4.736198 4.777020 4.590057 4.234107 3.806662\n",
              "[329] 4.875197 5.216565 4.923624 5.579730 4.736198 5.030438 4.969813 4.774913\n",
              "[337] 4.905275 5.074549 5.212215 4.962145 5.283204 5.206750 4.786658 5.010635\n",
              "[345] 4.836282 5.468060 5.164786 6.424869 5.093750 5.087596 5.438079 4.770685\n",
              "[353] 6.040017 5.181784 5.298317 5.036953 5.218733 5.616771 4.757891 5.135798\n",
              "[361] 5.214936 5.176150 5.552960 5.365976 5.654242 5.783825 5.135798 5.265278\n",
              "[369] 5.275560 5.817111 5.537334 5.318120 5.282696 5.123964 5.669881 5.096813\n",
              "[377] 4.852030 5.036953 5.541264 5.843255 5.710427 5.634790 5.872118 4.969119\n",
              "[385] 5.233245 4.955827 5.971899 6.086775 5.437644 4.973280 4.955827 5.492650\n",
              "[393] 5.398163 4.990433 5.763936 4.843399 5.655992 5.124410 5.594340 5.074236\n",
              "[401] 4.840242 5.192957 5.164786 5.686975 6.514713 5.105339 5.427150 4.778283\n",
              "[409] 4.925803 5.062595 5.517051 4.926529 5.427150 5.164786 5.206750 5.393173\n",
              "[417] 4.784462 5.164786 5.003275 4.912655 4.940928 5.010635 4.859037 4.172848\n",
              "[425] 5.496758 5.991465 5.752573 5.886104 5.438079 5.347108 6.396930 5.153292\n",
              "[433] 4.382027 4.262680 5.293305 5.420535 4.890349 4.442651 5.480639 5.416100\n",
              "[441] 5.480222 5.187106 5.333921 5.117994 5.505332 4.499810 4.471639 5.068275\n",
              "[449] 5.073241 5.194184 5.203457 4.668145 4.919251 5.159055 4.893352 4.902307\n",
              "[457] 4.983607 5.026509 4.900076 4.787492 4.899331 4.902307 4.910447 4.914124\n",
              "[465] 4.919251 5.040841 5.040841 5.047385 5.101694 5.110782 5.245976 4.552824\n",
              "[473] 4.890349 4.896346 4.896346 4.896346 4.896346 4.904534 4.936630 5.004617\n",
              "[481] 5.009968 4.904534 4.933754 5.068275 5.078294 4.532599 5.282696 4.933034\n",
              "[489] 5.272487 5.282696 4.283587 5.097424 5.342813 5.174453 5.886104 4.700480\n",
              "[497] 5.799093 6.047136 6.914731 5.169916 6.052089 4.828314"
            ]
          },
          "metadata": {}
        }
      ]
    },
    {
      "cell_type": "markdown",
      "source": [
        "We are going to take of \"ranch\" because it is all equal to 1 in this subset."
      ],
      "metadata": {
        "id": "bMqmD6BsUahR"
      }
    },
    {
      "cell_type": "code",
      "source": [
        "model_5 <- lm( l_house_ranch ~ sqft + bedrooms + baths + age + owner  + fireplace + mountain, data = ranch_houses)"
      ],
      "metadata": {
        "id": "o7BmknBQTy_4"
      },
      "execution_count": null,
      "outputs": []
    },
    {
      "cell_type": "code",
      "source": [
        "summary(model_5)"
      ],
      "metadata": {
        "colab": {
          "base_uri": "https://localhost:8080/",
          "height": 451
        },
        "id": "XnN9QXGsUSKa",
        "outputId": "c6852e41-ce1e-4665-dedb-8160d74f3f2d"
      },
      "execution_count": null,
      "outputs": [
        {
          "output_type": "display_data",
          "data": {
            "text/plain": [
              "\n",
              "Call:\n",
              "lm(formula = l_house_ranch ~ sqft + bedrooms + baths + age + \n",
              "    owner + fireplace + mountain, data = ranch_houses)\n",
              "\n",
              "Residuals:\n",
              "     Min       1Q   Median       3Q      Max \n",
              "-1.07826 -0.09235 -0.00100  0.12001  0.95037 \n",
              "\n",
              "Coefficients:\n",
              "              Estimate Std. Error t value Pr(>|t|)    \n",
              "(Intercept)  3.7539728  0.0667521  56.238  < 2e-16 ***\n",
              "sqft         2.8077593  0.1971520  14.242  < 2e-16 ***\n",
              "bedrooms     0.0208645  0.0212892   0.980    0.328    \n",
              "baths        0.2073466  0.0274820   7.545 2.19e-13 ***\n",
              "age         -0.0071894  0.0006795 -10.581  < 2e-16 ***\n",
              "owner        0.0968532  0.0227397   4.259 2.46e-05 ***\n",
              "fireplace    0.1150624  0.0234103   4.915 1.21e-06 ***\n",
              "mountain    -0.0340669  0.0523000  -0.651    0.515    \n",
              "---\n",
              "Signif. codes:  0 ‘***’ 0.001 ‘**’ 0.01 ‘*’ 0.05 ‘.’ 0.1 ‘ ’ 1\n",
              "\n",
              "Residual standard error: 0.2324 on 494 degrees of freedom\n",
              "Multiple R-squared:  0.7685,\tAdjusted R-squared:  0.7652 \n",
              "F-statistic: 234.2 on 7 and 494 DF,  p-value: < 2.2e-16\n"
            ]
          },
          "metadata": {}
        }
      ]
    },
    {
      "cell_type": "markdown",
      "source": [
        "Using the equation estimated in part (d), predict the value of a ranch-style house with 2500square feet of area, that is 20 years old, that is owner-occupied at the time of sale, that has afireplace, 3 bedrooms, and 2 baths, and that is not on a mountain."
      ],
      "metadata": {
        "id": "6q7ckyUBWQNh"
      }
    },
    {
      "cell_type": "code",
      "source": [
        "sqft <- 25\n",
        "bedrooms <- 3\n",
        "baths <- 2\n",
        "age <- 20\n",
        "owner <- 1\n",
        "fireplace <- 1\n",
        "mountain <- 0\n",
        "p <- data.frame(sqft, bedrooms, baths, age, owner, fireplace, mountain)"
      ],
      "metadata": {
        "id": "ep-RSP_UbEjB"
      },
      "execution_count": null,
      "outputs": []
    },
    {
      "cell_type": "code",
      "source": [
        "p"
      ],
      "metadata": {
        "colab": {
          "base_uri": "https://localhost:8080/",
          "height": 129
        },
        "id": "HNYyb31sX7Vx",
        "outputId": "e4d1d848-d265-420f-8cd4-96e286aa1d86"
      },
      "execution_count": null,
      "outputs": [
        {
          "output_type": "display_data",
          "data": {
            "text/html": [
              "<table class=\"dataframe\">\n",
              "<caption>A data.frame: 1 × 7</caption>\n",
              "<thead>\n",
              "\t<tr><th scope=col>sqft</th><th scope=col>bedrooms</th><th scope=col>baths</th><th scope=col>age</th><th scope=col>owner</th><th scope=col>fireplace</th><th scope=col>mountain</th></tr>\n",
              "\t<tr><th scope=col>&lt;dbl&gt;</th><th scope=col>&lt;dbl&gt;</th><th scope=col>&lt;dbl&gt;</th><th scope=col>&lt;dbl&gt;</th><th scope=col>&lt;dbl&gt;</th><th scope=col>&lt;dbl&gt;</th><th scope=col>&lt;dbl&gt;</th></tr>\n",
              "</thead>\n",
              "<tbody>\n",
              "\t<tr><td>25</td><td>3</td><td>2</td><td>20</td><td>1</td><td>1</td><td>0</td></tr>\n",
              "</tbody>\n",
              "</table>\n"
            ],
            "text/markdown": "\nA data.frame: 1 × 7\n\n| sqft &lt;dbl&gt; | bedrooms &lt;dbl&gt; | baths &lt;dbl&gt; | age &lt;dbl&gt; | owner &lt;dbl&gt; | fireplace &lt;dbl&gt; | mountain &lt;dbl&gt; |\n|---|---|---|---|---|---|---|\n| 25 | 3 | 2 | 20 | 1 | 1 | 0 |\n\n",
            "text/latex": "A data.frame: 1 × 7\n\\begin{tabular}{lllllll}\n sqft & bedrooms & baths & age & owner & fireplace & mountain\\\\\n <dbl> & <dbl> & <dbl> & <dbl> & <dbl> & <dbl> & <dbl>\\\\\n\\hline\n\t 25 & 3 & 2 & 20 & 1 & 1 & 0\\\\\n\\end{tabular}\n",
            "text/plain": [
              "  sqft bedrooms baths age owner fireplace mountain\n",
              "1 25   3        2     20  1     1         0       "
            ]
          },
          "metadata": {}
        }
      ]
    },
    {
      "cell_type": "code",
      "source": [
        "predict(model_5, newdata = p)"
      ],
      "metadata": {
        "colab": {
          "base_uri": "https://localhost:8080/",
          "height": 34
        },
        "id": "5OKk3AlKWjog",
        "outputId": "3f6c4195-b2d1-44cb-ff50-7160e65b315b"
      },
      "execution_count": null,
      "outputs": [
        {
          "output_type": "display_data",
          "data": {
            "text/html": [
              "<strong>1:</strong> 74.4933689376891"
            ],
            "text/markdown": "**1:** 74.4933689376891",
            "text/latex": "\\textbf{1:} 74.4933689376891",
            "text/plain": [
              "       1 \n",
              "74.49337 "
            ]
          },
          "metadata": {}
        }
      ]
    },
    {
      "cell_type": "code",
      "source": [
        "predict(model_5, newdata = p, interval = \"predict\")"
      ],
      "metadata": {
        "colab": {
          "base_uri": "https://localhost:8080/",
          "height": 98
        },
        "id": "6H0VRalxHLhQ",
        "outputId": "134eff83-146d-4c25-8e4e-22bec98f05d7"
      },
      "execution_count": null,
      "outputs": [
        {
          "output_type": "display_data",
          "data": {
            "text/html": [
              "<table class=\"dataframe\">\n",
              "<caption>A matrix: 1 × 3 of type dbl</caption>\n",
              "<thead>\n",
              "\t<tr><th></th><th scope=col>fit</th><th scope=col>lwr</th><th scope=col>upr</th></tr>\n",
              "</thead>\n",
              "<tbody>\n",
              "\t<tr><th scope=row>1</th><td>74.49337</td><td>64.88824</td><td>84.09849</td></tr>\n",
              "</tbody>\n",
              "</table>\n"
            ],
            "text/markdown": "\nA matrix: 1 × 3 of type dbl\n\n| <!--/--> | fit | lwr | upr |\n|---|---|---|---|\n| 1 | 74.49337 | 64.88824 | 84.09849 |\n\n",
            "text/latex": "A matrix: 1 × 3 of type dbl\n\\begin{tabular}{r|lll}\n  & fit & lwr & upr\\\\\n\\hline\n\t1 & 74.49337 & 64.88824 & 84.09849\\\\\n\\end{tabular}\n",
            "text/plain": [
              "  fit      lwr      upr     \n",
              "1 74.49337 64.88824 84.09849"
            ]
          },
          "metadata": {}
        }
      ]
    },
    {
      "cell_type": "code",
      "source": [
        "price <- log(5.001327)\n",
        "price"
      ],
      "metadata": {
        "colab": {
          "base_uri": "https://localhost:8080/",
          "height": 34
        },
        "id": "qqZ1HqpQQetA",
        "outputId": "3c413cc2-36b1-4f69-c81a-471a68c0d7b5"
      },
      "execution_count": null,
      "outputs": [
        {
          "output_type": "display_data",
          "data": {
            "text/html": [
              "1.60970327722175"
            ],
            "text/markdown": "1.60970327722175",
            "text/latex": "1.60970327722175",
            "text/plain": [
              "[1] 1.609703"
            ]
          },
          "metadata": {}
        }
      ]
    },
    {
      "cell_type": "code",
      "source": [
        "exp(5.001327)*1000"
      ],
      "metadata": {
        "colab": {
          "base_uri": "https://localhost:8080/",
          "height": 34
        },
        "id": "hmydAXnHSWVn",
        "outputId": "175edd09-8036-4b59-d709-68c21609e4e2"
      },
      "execution_count": null,
      "outputs": [
        {
          "output_type": "display_data",
          "data": {
            "text/html": [
              "148610.234095044"
            ],
            "text/markdown": "148610.234095044",
            "text/latex": "148610.234095044",
            "text/plain": [
              "[1] 148610.2"
            ]
          },
          "metadata": {}
        }
      ]
    },
    {
      "cell_type": "code",
      "source": [
        "log(148.610234095044)"
      ],
      "metadata": {
        "colab": {
          "base_uri": "https://localhost:8080/",
          "height": 34
        },
        "id": "cZgJs02TTICg",
        "outputId": "8e202e84-a774-4ea6-fb21-e69369680ab7"
      },
      "execution_count": null,
      "outputs": [
        {
          "output_type": "display_data",
          "data": {
            "text/html": [
              "5.001327"
            ],
            "text/markdown": "5.001327",
            "text/latex": "5.001327",
            "text/plain": [
              "[1] 5.001327"
            ]
          },
          "metadata": {}
        }
      ]
    }
  ]
}